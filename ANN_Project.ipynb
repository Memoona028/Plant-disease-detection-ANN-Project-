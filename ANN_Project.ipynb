{
  "nbformat": 4,
  "nbformat_minor": 0,
  "metadata": {
    "colab": {
      "provenance": [],
      "authorship_tag": "ABX9TyPdEn6s927lPppMsMmnhmJG",
      "include_colab_link": true
    },
    "kernelspec": {
      "name": "python3",
      "display_name": "Python 3"
    },
    "language_info": {
      "name": "python"
    }
  },
  "cells": [
    {
      "cell_type": "markdown",
      "metadata": {
        "id": "view-in-github",
        "colab_type": "text"
      },
      "source": [
        "<a href=\"https://colab.research.google.com/github/Memoona028/Plant-disease-detection-ANN-Project-/blob/main/ANN_Project.ipynb\" target=\"_parent\"><img src=\"https://colab.research.google.com/assets/colab-badge.svg\" alt=\"Open In Colab\"/></a>"
      ]
    },
    {
      "cell_type": "markdown",
      "source": [
        "###Data Source : https://www.kaggle.com/datasets/abdallahalidev/plantvillage-dataset\n",
        "###Base Paper Source :"
      ],
      "metadata": {
        "id": "2CDsF9MV2_5I"
      }
    },
    {
      "cell_type": "markdown",
      "source": [
        "#Description\n",
        "- The PlantVillage dataset consists of 54,303 healthy and unhealthy leaf images divided into 38 categories by species and disease.\n",
        "- After Augumentation, this data-set contains 38 different classes of plant leaf and background images with data-set of \"61,486 images\". We used six different augmentation techniques for increasing the data-set size. The techniques are image flipping, Gamma correction(Gamma correction adjusts the brightness of an image by modifying the gamma value.), noise injection, PCA color augmentation(PCA color augmentation involves applying random color transformations to the image based on the principal components of the dataset's color distributio), rotation, and Scaling."
      ],
      "metadata": {
        "id": "g_7-krO52PN5"
      }
    },
    {
      "cell_type": "code",
      "source": [
        "from google.colab import drive\n",
        "import zipfile\n",
        "import os\n",
        "\n",
        "# Mount Google Drive\n",
        "drive.mount('/content/drive')\n",
        "\n",
        "# Path to the zip file in your Google Drive\n",
        "zip_file_path = '/content/drive/My Drive/Plant_leaf_diseases_dataset_with_augmentation.zip'\n",
        "\n",
        "# Directory to extract the contents of the zip file\n",
        "extract_dir = '/content/drive/My Drive/Plant_leaf_diseases_dataset_with_augmentation/'\n",
        "\n",
        "# Extract the zip file\n",
        "with zipfile.ZipFile(zip_file_path, 'r') as zip_ref:\n",
        "    zip_ref.extractall(extract_dir)\n",
        "\n",
        "# Check the contents of the extracted directory\n",
        "extracted_files = os.listdir(extract_dir)\n",
        "print(\"Extracted files:\", extracted_files)\n"
      ],
      "metadata": {
        "id": "brmQba-T5SU3",
        "colab": {
          "base_uri": "https://localhost:8080/"
        },
        "outputId": "872c6a6d-a55b-46c1-e187-a966c84de52d"
      },
      "execution_count": null,
      "outputs": [
        {
          "output_type": "stream",
          "name": "stdout",
          "text": [
            "Mounted at /content/drive\n",
            "Extracted files: ['Plant_leave_diseases_dataset_with_augmentation']\n"
          ]
        }
      ]
    },
    {
      "cell_type": "markdown",
      "source": [
        "###Code to augument image dataset"
      ],
      "metadata": {
        "id": "GrbNk2phMie9"
      }
    },
    {
      "cell_type": "code",
      "source": [
        "import os\n",
        "import numpy as np\n",
        "import tensorflow as tf\n",
        "from tensorflow.keras.preprocessing.image import ImageDataGenerator\n",
        "\n",
        "# Define the path to the directory containing the 38 folders\n",
        "data_dir = '/path/to/directory/containing/38_folders'\n",
        "\n",
        "# Define parameters for data augmentation\n",
        "batch_size = 32\n",
        "image_size = (224, 224)  # Target size for resizing images\n",
        "\n",
        "# Create ImageDataGenerator for data augmentation\n",
        "datagen = ImageDataGenerator(\n",
        "    rotation_range=20,      # Rotate images by up to 20 degrees\n",
        "    width_shift_range=0.2,  # Shift images horizontally by up to 20% of the width\n",
        "    height_shift_range=0.2, # Shift images vertically by up to 20% of the height\n",
        "    shear_range=0.2,        # Shear transformation\n",
        "    zoom_range=0.2,         # Zoom in/out by up to 20%\n",
        "    horizontal_flip=True,   # Flip images horizontally\n",
        "    vertical_flip=True,     # Flip images vertically\n",
        "    fill_mode='nearest',    # Fill mode for filling in newly created pixels\n",
        "    preprocessing_function=tf.keras.applications.mobilenet_v2.preprocess_input\n",
        ")\n",
        "\n",
        "# Create a generator for loading images from the directory\n",
        "data_generator = datagen.flow_from_directory(\n",
        "    data_dir,\n",
        "    target_size=image_size,\n",
        "    batch_size=batch_size,\n",
        "    class_mode='categorical'\n",
        ")\n",
        "\n",
        "# Example of using the generator\n",
        "for images, labels in data_generator:\n",
        "    # `images` is a batch of augmented images\n",
        "    # `labels` is a batch of corresponding labels\n",
        "    # Perform training or other tasks with the augmented data\n",
        "    break  # Break to only show one batch, remove this to loop over all batches\n"
      ],
      "metadata": {
        "id": "z5qR5F1NFyxx"
      },
      "execution_count": null,
      "outputs": []
    },
    {
      "cell_type": "markdown",
      "source": [
        "- To delete a non-empty folder we used shutil here to dlt empty folder you can simply use os"
      ],
      "metadata": {
        "id": "qZ49pFMYOVBL"
      }
    },
    {
      "cell_type": "code",
      "source": [
        "import shutil\n",
        "\n",
        "# Path to the folder you want to delete\n",
        "folder_path = '/content/drive/MyDrive/Plant_leaf_diseases_dataset_with_augmentation/Plant_leave_diseases_dataset_with_augmentation/Tomato___Tomato_Yellow_Leaf_Curl_Virus'\n",
        "\n",
        "# Check if the folder exists\n",
        "if os.path.exists(folder_path):\n",
        "    # Remove the folder and its contents recursively\n",
        "    shutil.rmtree(folder_path)\n",
        "    print(f\"Folder '{folder_path}' has been deleted.\")\n",
        "else:\n",
        "    print(f\"Folder '{folder_path}' does not exist.\")\n"
      ],
      "metadata": {
        "colab": {
          "base_uri": "https://localhost:8080/"
        },
        "id": "mqbWMmDBM3NS",
        "outputId": "4c2e23bc-2470-4110-bcd6-c4e92fff2449"
      },
      "execution_count": null,
      "outputs": [
        {
          "output_type": "stream",
          "name": "stdout",
          "text": [
            "Folder '/content/drive/MyDrive/Plant_leaf_diseases_dataset_with_augmentation/Plant_leave_diseases_dataset_with_augmentation/Tomato___Tomato_Yellow_Leaf_Curl_Virus' has been deleted.\n"
          ]
        }
      ]
    },
    {
      "cell_type": "code",
      "source": [],
      "metadata": {
        "id": "8L8sKX-sNCF3"
      },
      "execution_count": null,
      "outputs": []
    }
  ]
}
{
  "nbformat": 4,
  "nbformat_minor": 0,
  "metadata": {
    "colab": {
      "provenance": [],
      "toc_visible": true,
      "authorship_tag": "ABX9TyP2svIp3loXIyNVh30NAs1H",
      "include_colab_link": true
    },
    "kernelspec": {
      "name": "python3",
      "display_name": "Python 3"
    },
    "language_info": {
      "name": "python"
    }
  },
  "cells": [
    {
      "cell_type": "markdown",
      "metadata": {
        "id": "view-in-github",
        "colab_type": "text"
      },
      "source": [
        "<a href=\"https://colab.research.google.com/github/Memoona028/Plant-disease-detection-ANN-Project-/blob/main/ANN_Project.ipynb\" target=\"_parent\"><img src=\"https://colab.research.google.com/assets/colab-badge.svg\" alt=\"Open In Colab\"/></a>"
      ]
    },
    {
      "cell_type": "markdown",
      "source": [
        "###Data Source : https://www.kaggle.com/datasets/abdallahalidev/plantvillage-dataset"
      ],
      "metadata": {
        "id": "2CDsF9MV2_5I"
      }
    },
    {
      "cell_type": "markdown",
      "source": [
        "#Description\n",
        "- The PlantVillage dataset consists of 54,303 healthy and unhealthy leaf images divided into 38 categories by species and disease.\n",
        "- After Augumentation, this data-set contains 39 different classes of plant leaf and background images with data-set of \"61,486 images\". We used six different augmentation techniques for increasing the data-set size. The techniques are image flipping, Gamma correction, noise injection, PCA color augmentation, rotation, and Scaling."
      ],
      "metadata": {
        "id": "g_7-krO52PN5"
      }
    },
    {
      "cell_type": "code",
      "source": [],
      "metadata": {
        "id": "dGVOlkhD2RIe"
      },
      "execution_count": null,
      "outputs": []
    }
  ]
}
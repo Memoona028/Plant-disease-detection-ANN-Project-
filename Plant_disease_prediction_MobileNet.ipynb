{
  "cells": [
    {
      "cell_type": "markdown",
      "metadata": {
        "id": "view-in-github",
        "colab_type": "text"
      },
      "source": [
        "<a href=\"https://colab.research.google.com/github/Memoona028/Plant-disease-detection-ANN-Project-/blob/main/Plant_disease_prediction_MobileNet.ipynb\" target=\"_parent\"><img src=\"https://colab.research.google.com/assets/colab-badge.svg\" alt=\"Open In Colab\"/></a>"
      ]
    },
    {
      "cell_type": "markdown",
      "id": "0e29290f",
      "metadata": {
        "papermill": {
          "duration": 0.005911,
          "end_time": "2023-03-31T09:19:57.644683",
          "exception": false,
          "start_time": "2023-03-31T09:19:57.638772",
          "status": "completed"
        },
        "tags": [],
        "id": "0e29290f"
      },
      "source": [
        " ### Data Source : https://www.kaggle.com/datasets/vipoooool/new-plant-diseases-dataset\n",
        "##### Identify Plant Diseases\n",
        "\n",
        "We use the PlantVillage dataset by Hughes et al. consists of about 87,000 healthy and unhealthy leaf images divided into 38 categories by species and disease. We transfered learning from MobileNet and use the weights from pre-training on ImageNet.\n",
        "\n",
        "#### Classes\n",
        "\n",
        "->  The following 38 classes are availaible in the dataset\n",
        "\n",
        "- `Apple___Apple_scab`\n",
        "- `Apple___Black_rot`\n",
        "- `Apple___Cedar_apple_rust`\n",
        "- `Apple___healthy`\n",
        "- `Blueberry___healthy`\n",
        "- `Cherry_(including_sour)___Powdery_mildew`\n",
        "- `Cherry_(including_sour)___healthy`\n",
        "- `Corn_(maize)___Cercospora_leaf_spot Gray_leaf_spot`\n",
        "- `Corn_(maize)___Common_rust_`\n",
        "- `Corn_(maize)___Northern_Leaf_Blight`\n",
        "- `Corn_(maize)___healthy', 'Grape___Black_rot`\n",
        "- `Grape___Leaf_blight_(Isariopsis_Leaf_Spot)`\n",
        "- `Grape___healthy`\n",
        "- `Orange___Haunglongbing_(Citrus_greening)`\n",
        "- `Peach___Bacterial_spot`\n",
        "- `Peach___healthy`\n",
        "- `Pepper,_bell___Bacterial_spot`\n",
        "- `Pepper,_bell___healthy`\n",
        "- `Potato___Early_blight`\n",
        "- `Potato___Late_blight`\n",
        "- `Potato___healthy`\n",
        "- `Raspberry___healthy`\n",
        "- `Soybean___healthy`\n",
        "- `Squash___Powdery_mildew`\n",
        "- `Strawberry___Leaf_scorch`\n",
        "- `Strawberry___healthy`\n",
        "- `Tomato___Bacterial_spot`\n",
        "- `Tomato___Late_blight`\n",
        "- `Tomato___Leaf_Mold`\n",
        "- `Tomato___Septoria_leaf_spot`\n",
        "- `Tomato___Spider_mites Two-spotted_spider_mite`\n",
        "- `Tomato___Target_Spot`\n",
        "- `Tomato___Tomato_Yellow_Leaf_Curl_Virus`\n",
        "- `Tomato___Tomato_mosaic_virus`\n",
        "- `Tomato___healthy`\n"
      ]
    },
    {
      "cell_type": "markdown",
      "id": "db4ab3c9",
      "metadata": {
        "papermill": {
          "duration": 0.007328,
          "end_time": "2023-03-31T09:19:47.292207",
          "exception": false,
          "start_time": "2023-03-31T09:19:47.284879",
          "status": "completed"
        },
        "tags": [],
        "id": "db4ab3c9"
      },
      "source": [
        "## Importing Dependencies\n"
      ]
    },
    {
      "cell_type": "code",
      "execution_count": null,
      "id": "e558f4e4",
      "metadata": {
        "execution": {
          "iopub.execute_input": "2023-03-31T09:19:47.307403Z",
          "iopub.status.busy": "2023-03-31T09:19:47.306508Z",
          "iopub.status.idle": "2023-03-31T09:19:57.567344Z",
          "shell.execute_reply": "2023-03-31T09:19:57.565844Z"
        },
        "papermill": {
          "duration": 10.272013,
          "end_time": "2023-03-31T09:19:57.570480",
          "exception": false,
          "start_time": "2023-03-31T09:19:47.298467",
          "status": "completed"
        },
        "tags": [],
        "id": "e558f4e4",
        "outputId": "99e0c7be-23a6-4e1a-da97-f101f0a5f60b"
      },
      "outputs": [
        {
          "name": "stdout",
          "output_type": "stream",
          "text": [
            "WARNING:tensorflow:From C:\\Users\\DELL\\anaconda3\\Lib\\site-packages\\keras\\src\\losses.py:2976: The name tf.losses.sparse_softmax_cross_entropy is deprecated. Please use tf.compat.v1.losses.sparse_softmax_cross_entropy instead.\n",
            "\n"
          ]
        }
      ],
      "source": [
        "import tensorflow as tf\n",
        "from tensorflow import keras\n",
        "import matplotlib.pyplot as plt\n",
        "import numpy as np\n",
        "import os"
      ]
    },
    {
      "cell_type": "code",
      "execution_count": null,
      "id": "6bf8ff9c",
      "metadata": {
        "execution": {
          "iopub.execute_input": "2023-03-31T09:19:57.585451Z",
          "iopub.status.busy": "2023-03-31T09:19:57.584612Z",
          "iopub.status.idle": "2023-03-31T09:19:57.593596Z",
          "shell.execute_reply": "2023-03-31T09:19:57.592044Z"
        },
        "papermill": {
          "duration": 0.019659,
          "end_time": "2023-03-31T09:19:57.596452",
          "exception": false,
          "start_time": "2023-03-31T09:19:57.576793",
          "status": "completed"
        },
        "tags": [],
        "id": "6bf8ff9c"
      },
      "outputs": [],
      "source": [
        "image_size = 224\n",
        "target_size = (image_size, image_size)\n",
        "input_shape = (image_size, image_size, 3)\n",
        "\n",
        "batch_size = 32\n",
        "epochs = 25"
      ]
    },
    {
      "cell_type": "markdown",
      "id": "6100d1c8",
      "metadata": {
        "papermill": {
          "duration": 0.006887,
          "end_time": "2023-03-31T09:19:57.609535",
          "exception": false,
          "start_time": "2023-03-31T09:19:57.602648",
          "status": "completed"
        },
        "tags": [],
        "id": "6100d1c8"
      },
      "source": [
        "### Getting data\n",
        "\n",
        "- In order to make the most of our few training examples, we will \"augment\" them via a number of random transformations, so that our model would never see twice the exact same picture. This helps prevent overfitting and helps the model generalize better.\n",
        "\n",
        "- In TensorFlow this can be done via the `tf.keras.preprocessing.image.ImageDataGenerator` class. This class allows you to:\n",
        "\n",
        "- configure random transformations and normalization operations to be done on your image data during training\n",
        "- instantiate generators of augmented image batches (and their labels) via `.flow(data, labels)` or `.flow_from_directory(directory)`. These generators can then be used with the `tf.keras` model methods that accept data generators as inputs, `fit`, `evaluate` and `predict`."
      ]
    },
    {
      "cell_type": "code",
      "execution_count": null,
      "id": "dda3c568",
      "metadata": {
        "id": "dda3c568"
      },
      "outputs": [],
      "source": [
        "#we have our seperate train,valid and test folders\n",
        "#where as test folders contain images for which we have done augmentation as well (flipped,rotataion)"
      ]
    },
    {
      "cell_type": "code",
      "execution_count": null,
      "id": "483df90c",
      "metadata": {
        "execution": {
          "iopub.execute_input": "2023-03-31T09:19:57.624376Z",
          "iopub.status.busy": "2023-03-31T09:19:57.623932Z",
          "iopub.status.idle": "2023-03-31T09:19:57.630107Z",
          "shell.execute_reply": "2023-03-31T09:19:57.628774Z"
        },
        "papermill": {
          "duration": 0.016345,
          "end_time": "2023-03-31T09:19:57.632514",
          "exception": false,
          "start_time": "2023-03-31T09:19:57.616169",
          "status": "completed"
        },
        "tags": [],
        "id": "483df90c"
      },
      "outputs": [],
      "source": [
        "base_dir = r\"C:\\Users\\DELL\\Downloads\\New Plant Diseases Dataset(Augmented)\\New Plant Diseases Dataset(Augmented)\"\n",
        "train_dir = os.path.join(base_dir,\"train\")\n",
        "test_dir = os.path.join(base_dir,\"valid\")"
      ]
    },
    {
      "cell_type": "markdown",
      "id": "4284a4e7",
      "metadata": {
        "id": "4284a4e7"
      },
      "source": [
        "### Augmentation"
      ]
    },
    {
      "cell_type": "markdown",
      "id": "d2a24b10",
      "metadata": {
        "papermill": {
          "duration": 0.005865,
          "end_time": "2023-03-31T09:19:57.656686",
          "exception": false,
          "start_time": "2023-03-31T09:19:57.650821",
          "status": "completed"
        },
        "tags": [],
        "id": "d2a24b10"
      },
      "source": [
        "We will make the following augmentations to the images:\n",
        "\n",
        "- `width_shift` and `height_shift` are ranges (as a fraction of total width or height) within which to randomly translate pictures vertically or horizontally\n",
        "- `rescale` is a value by which we will multiply the data before any other processing. Our original images consist in RGB coefficients in the 0-255, but such values would be too high for our models to process (given a typical learning rate), so we target values between 0 and 1 instead by scaling with a 1/255. factor.\n",
        "- `shear_range` is for randomly applying shearing transformations\n",
        "- `zoom_range` is for randomly zooming inside pictures\n",
        "- `fill_mode` is the strategy used for filling in newly created pixels, which can appear after a rotation or a width/height shift."
      ]
    },
    {
      "cell_type": "code",
      "execution_count": null,
      "id": "46a278ec",
      "metadata": {
        "execution": {
          "iopub.execute_input": "2023-03-31T09:19:57.671099Z",
          "iopub.status.busy": "2023-03-31T09:19:57.670624Z",
          "iopub.status.idle": "2023-03-31T09:19:57.677676Z",
          "shell.execute_reply": "2023-03-31T09:19:57.676504Z"
        },
        "papermill": {
          "duration": 0.017046,
          "end_time": "2023-03-31T09:19:57.680102",
          "exception": false,
          "start_time": "2023-03-31T09:19:57.663056",
          "status": "completed"
        },
        "tags": [],
        "id": "46a278ec"
      },
      "outputs": [],
      "source": [
        "train_datagen = keras.preprocessing.image.ImageDataGenerator(rescale = 1/255.0,\n",
        "                                                             shear_range = 0.2,\n",
        "                                                             zoom_range = 0.2,\n",
        "                                                             width_shift_range = 0.2,\n",
        "                                                             height_shift_range = 0.2,\n",
        "                                                              brightness_range=[0.5, 1.5],\n",
        "                                                             fill_mode=\"nearest\")\n",
        "\n",
        "test_datagen = keras.preprocessing.image.ImageDataGenerator(rescale = 1/255.0)"
      ]
    },
    {
      "cell_type": "markdown",
      "id": "2e6ce2e3",
      "metadata": {
        "papermill": {
          "duration": 0.005746,
          "end_time": "2023-03-31T09:19:57.692107",
          "exception": false,
          "start_time": "2023-03-31T09:19:57.686361",
          "status": "completed"
        },
        "tags": [],
        "id": "2e6ce2e3"
      },
      "source": [
        "Let's prepare our data. We will use `.flow_from_directory()` to generate batches of image data (and their labels) directly from our images in their respective folders."
      ]
    },
    {
      "cell_type": "markdown",
      "id": "f7b65a09",
      "metadata": {
        "id": "f7b65a09"
      },
      "source": [
        "### Data generators configuration"
      ]
    },
    {
      "cell_type": "code",
      "execution_count": null,
      "id": "f40656d6",
      "metadata": {
        "execution": {
          "iopub.execute_input": "2023-03-31T09:19:57.706710Z",
          "iopub.status.busy": "2023-03-31T09:19:57.705843Z",
          "iopub.status.idle": "2023-03-31T09:20:50.946617Z",
          "shell.execute_reply": "2023-03-31T09:20:50.945278Z"
        },
        "papermill": {
          "duration": 53.251586,
          "end_time": "2023-03-31T09:20:50.949652",
          "exception": false,
          "start_time": "2023-03-31T09:19:57.698066",
          "status": "completed"
        },
        "tags": [],
        "id": "f40656d6",
        "outputId": "3838e6c7-7a0a-4281-d4b4-a88ed4f53324"
      },
      "outputs": [
        {
          "name": "stdout",
          "output_type": "stream",
          "text": [
            "Found 70295 images belonging to 38 classes.\n",
            "Found 17572 images belonging to 38 classes.\n"
          ]
        }
      ],
      "source": [
        "train_data = train_datagen.flow_from_directory(train_dir,\n",
        "                                               target_size = (image_size, image_size),\n",
        "                                               batch_size = batch_size,\n",
        "                                               class_mode = \"categorical\")\n",
        "\n",
        "test_data = test_datagen.flow_from_directory(test_dir,\n",
        "                                             target_size = (image_size, image_size),\n",
        "                                             batch_size = batch_size,\n",
        "                                             class_mode = \"categorical\")"
      ]
    },
    {
      "cell_type": "markdown",
      "id": "f16b1fca",
      "metadata": {
        "papermill": {
          "duration": 0.005983,
          "end_time": "2023-03-31T09:20:50.962355",
          "exception": false,
          "start_time": "2023-03-31T09:20:50.956372",
          "status": "completed"
        },
        "tags": [],
        "id": "f16b1fca"
      },
      "source": [
        "## Create a classes index file (.json or .pkl)\n",
        "- Option 1 - we can use pickle\n",
        "- Option 2 - .json can be used as well\n",
        "- We also want to know which class corresponds to which species and disease so we also create a `json` file which shows corresponding labels and class indices."
      ]
    },
    {
      "cell_type": "code",
      "execution_count": null,
      "id": "481b3766",
      "metadata": {
        "execution": {
          "iopub.execute_input": "2023-03-31T09:20:50.977238Z",
          "iopub.status.busy": "2023-03-31T09:20:50.976472Z",
          "iopub.status.idle": "2023-03-31T09:20:50.982689Z",
          "shell.execute_reply": "2023-03-31T09:20:50.981176Z"
        },
        "papermill": {
          "duration": 0.016832,
          "end_time": "2023-03-31T09:20:50.985339",
          "exception": false,
          "start_time": "2023-03-31T09:20:50.968507",
          "status": "completed"
        },
        "tags": [],
        "id": "481b3766",
        "outputId": "8fc7de68-6dc5-47c5-e91c-313eb29539f6"
      },
      "outputs": [
        {
          "name": "stdout",
          "output_type": "stream",
          "text": [
            "{'Apple___Apple_scab': 0, 'Apple___Black_rot': 1, 'Apple___Cedar_apple_rust': 2, 'Apple___healthy': 3, 'Blueberry___healthy': 4, 'Cherry_(including_sour)___Powdery_mildew': 5, 'Cherry_(including_sour)___healthy': 6, 'Corn_(maize)___Cercospora_leaf_spot Gray_leaf_spot': 7, 'Corn_(maize)___Common_rust_': 8, 'Corn_(maize)___Northern_Leaf_Blight': 9, 'Corn_(maize)___healthy': 10, 'Grape___Black_rot': 11, 'Grape___Esca_(Black_Measles)': 12, 'Grape___Leaf_blight_(Isariopsis_Leaf_Spot)': 13, 'Grape___healthy': 14, 'Orange___Haunglongbing_(Citrus_greening)': 15, 'Peach___Bacterial_spot': 16, 'Peach___healthy': 17, 'Pepper,_bell___Bacterial_spot': 18, 'Pepper,_bell___healthy': 19, 'Potato___Early_blight': 20, 'Potato___Late_blight': 21, 'Potato___healthy': 22, 'Raspberry___healthy': 23, 'Soybean___healthy': 24, 'Squash___Powdery_mildew': 25, 'Strawberry___Leaf_scorch': 26, 'Strawberry___healthy': 27, 'Tomato___Bacterial_spot': 28, 'Tomato___Early_blight': 29, 'Tomato___Late_blight': 30, 'Tomato___Leaf_Mold': 31, 'Tomato___Septoria_leaf_spot': 32, 'Tomato___Spider_mites Two-spotted_spider_mite': 33, 'Tomato___Target_Spot': 34, 'Tomato___Tomato_Yellow_Leaf_Curl_Virus': 35, 'Tomato___Tomato_mosaic_virus': 36, 'Tomato___healthy': 37}\n"
          ]
        }
      ],
      "source": [
        "categories = list(train_data.class_indices.keys())\n",
        "print(train_data.class_indices)"
      ]
    },
    {
      "cell_type": "code",
      "execution_count": null,
      "id": "f3e056be",
      "metadata": {
        "execution": {
          "iopub.execute_input": "2023-03-31T09:20:51.000364Z",
          "iopub.status.busy": "2023-03-31T09:20:50.999544Z",
          "iopub.status.idle": "2023-03-31T09:20:51.008611Z",
          "shell.execute_reply": "2023-03-31T09:20:51.007388Z"
        },
        "papermill": {
          "duration": 0.019436,
          "end_time": "2023-03-31T09:20:51.011179",
          "exception": false,
          "start_time": "2023-03-31T09:20:50.991743",
          "status": "completed"
        },
        "tags": [],
        "id": "f3e056be"
      },
      "outputs": [],
      "source": [
        "import json\n",
        "save_dir = r'C:\\Users\\DELL\\Downloads\\files\\\\'\n",
        "\n",
        "with open(save_dir + 'class_indices.json', 'w') as f:\n",
        "    json.dump(train_data.class_indices, f)"
      ]
    },
    {
      "cell_type": "markdown",
      "id": "d9333466",
      "metadata": {
        "papermill": {
          "duration": 0.006992,
          "end_time": "2023-03-31T09:20:51.024741",
          "exception": false,
          "start_time": "2023-03-31T09:20:51.017749",
          "status": "completed"
        },
        "tags": [],
        "id": "d9333466"
      },
      "source": [
        "## Training\n",
        "\n",
        "We first get the base MobileNet model without including the top layers since we want to use it for 38 classes and us the pre-trained weights for ImageNet."
      ]
    },
    {
      "cell_type": "code",
      "execution_count": null,
      "id": "d915e531",
      "metadata": {
        "execution": {
          "iopub.execute_input": "2023-03-31T09:20:51.039778Z",
          "iopub.status.busy": "2023-03-31T09:20:51.038949Z",
          "iopub.status.idle": "2023-03-31T09:20:52.496137Z",
          "shell.execute_reply": "2023-03-31T09:20:52.494742Z"
        },
        "papermill": {
          "duration": 1.468248,
          "end_time": "2023-03-31T09:20:52.499338",
          "exception": false,
          "start_time": "2023-03-31T09:20:51.031090",
          "status": "completed"
        },
        "tags": [],
        "id": "d915e531",
        "outputId": "255d287f-42cd-484b-dffe-bcb24f11869e"
      },
      "outputs": [
        {
          "name": "stdout",
          "output_type": "stream",
          "text": [
            "WARNING:tensorflow:From C:\\Users\\DELL\\anaconda3\\Lib\\site-packages\\keras\\src\\backend.py:1398: The name tf.executing_eagerly_outside_functions is deprecated. Please use tf.compat.v1.executing_eagerly_outside_functions instead.\n",
            "\n",
            "WARNING:tensorflow:From C:\\Users\\DELL\\anaconda3\\Lib\\site-packages\\keras\\src\\layers\\normalization\\batch_normalization.py:979: The name tf.nn.fused_batch_norm is deprecated. Please use tf.compat.v1.nn.fused_batch_norm instead.\n",
            "\n",
            "Downloading data from https://storage.googleapis.com/tensorflow/keras-applications/mobilenet/mobilenet_1_0_224_tf_no_top.h5\n",
            "17225924/17225924 [==============================] - 33s 2us/step\n"
          ]
        }
      ],
      "source": [
        "base_model = tf.keras.applications.MobileNet(weights = \"imagenet\",\n",
        "                                             include_top = False,\n",
        "                                             input_shape = input_shape)\n",
        "\n",
        "base_model.trainable = False"
      ]
    },
    {
      "cell_type": "markdown",
      "id": "48f30bac",
      "metadata": {
        "papermill": {
          "duration": 0.006822,
          "end_time": "2023-03-31T09:20:52.513188",
          "exception": false,
          "start_time": "2023-03-31T09:20:52.506366",
          "status": "completed"
        },
        "tags": [],
        "id": "48f30bac"
      },
      "source": [
        "We now create a small upstream model on top of the MobileNet using the functional API"
      ]
    },
    {
      "cell_type": "markdown",
      "id": "018d3ea2",
      "metadata": {
        "id": "018d3ea2"
      },
      "source": [
        "#### MobileNet-Based Leaf Disease Classification Model Architecture"
      ]
    },
    {
      "cell_type": "code",
      "execution_count": null,
      "id": "433319b7",
      "metadata": {
        "execution": {
          "iopub.execute_input": "2023-03-31T09:20:52.530773Z",
          "iopub.status.busy": "2023-03-31T09:20:52.530319Z",
          "iopub.status.idle": "2023-03-31T09:20:52.835303Z",
          "shell.execute_reply": "2023-03-31T09:20:52.833810Z"
        },
        "papermill": {
          "duration": 0.317515,
          "end_time": "2023-03-31T09:20:52.838267",
          "exception": false,
          "start_time": "2023-03-31T09:20:52.520752",
          "status": "completed"
        },
        "tags": [],
        "id": "433319b7"
      },
      "outputs": [],
      "source": [
        "inputs = keras.Input(shape = input_shape)\n",
        "\n",
        "x = base_model(inputs, training = False)\n",
        "x = tf.keras.layers.GlobalAveragePooling2D()(x)\n",
        "x = tf.keras.layers.Dropout(0.2)(x)\n",
        "x = tf.keras.layers.Dense(len(categories),\n",
        "                          activation=\"softmax\")(x)\n",
        "\n",
        "model = keras.Model(inputs = inputs,\n",
        "                    outputs = x,\n",
        "                    name=\"Leaf_Disease_MobileNet_Model\")"
      ]
    },
    {
      "cell_type": "markdown",
      "id": "ff5d6e1c",
      "metadata": {
        "papermill": {
          "duration": 0.006617,
          "end_time": "2023-03-31T09:20:52.851822",
          "exception": false,
          "start_time": "2023-03-31T09:20:52.845205",
          "status": "completed"
        },
        "tags": [],
        "id": "ff5d6e1c"
      },
      "source": [
        "In our multiple experiments we found out Adam optimizer to work really well with it's default learning rate, $\\beta_1$, $\\beta_2$ and $\\epsilon$ values"
      ]
    },
    {
      "cell_type": "markdown",
      "id": "0056ca5d",
      "metadata": {
        "id": "0056ca5d"
      },
      "source": [
        "#### Model Compilation and Optimization"
      ]
    },
    {
      "cell_type": "code",
      "execution_count": null,
      "id": "afeb41ff",
      "metadata": {
        "execution": {
          "iopub.execute_input": "2023-03-31T09:20:52.867849Z",
          "iopub.status.busy": "2023-03-31T09:20:52.867408Z",
          "iopub.status.idle": "2023-03-31T09:20:52.895517Z",
          "shell.execute_reply": "2023-03-31T09:20:52.894120Z"
        },
        "papermill": {
          "duration": 0.039791,
          "end_time": "2023-03-31T09:20:52.898501",
          "exception": false,
          "start_time": "2023-03-31T09:20:52.858710",
          "status": "completed"
        },
        "tags": [],
        "id": "afeb41ff"
      },
      "outputs": [],
      "source": [
        "optimizer = tf.keras.optimizers.Adam()\n",
        "\n",
        "model.compile(optimizer = optimizer,\n",
        "              loss = tf.keras.losses.CategoricalCrossentropy(from_logits = True),\n",
        "              metrics=[keras.metrics.CategoricalAccuracy(),\n",
        "                       'accuracy'])"
      ]
    },
    {
      "cell_type": "markdown",
      "id": "725dc4c1",
      "metadata": {
        "id": "725dc4c1"
      },
      "source": [
        "#### Model Fitting"
      ]
    },
    {
      "cell_type": "code",
      "execution_count": null,
      "id": "6a2dd8a5",
      "metadata": {
        "execution": {
          "iopub.execute_input": "2023-03-31T09:20:52.914752Z",
          "iopub.status.busy": "2023-03-31T09:20:52.914340Z",
          "iopub.status.idle": "2023-03-31T11:15:20.048243Z",
          "shell.execute_reply": "2023-03-31T11:15:20.046592Z"
        },
        "papermill": {
          "duration": 6867.41145,
          "end_time": "2023-03-31T11:15:20.316942",
          "exception": false,
          "start_time": "2023-03-31T09:20:52.905492",
          "status": "completed"
        },
        "tags": [],
        "id": "6a2dd8a5",
        "outputId": "14c3c5e7-3fde-4c7c-b50a-a72315600a56"
      },
      "outputs": [
        {
          "name": "stdout",
          "output_type": "stream",
          "text": [
            "Epoch 1/25\n"
          ]
        },
        {
          "name": "stderr",
          "output_type": "stream",
          "text": [
            "C:\\Users\\DELL\\anaconda3\\Lib\\site-packages\\keras\\src\\backend.py:5575: UserWarning: \"`categorical_crossentropy` received `from_logits=True`, but the `output` argument was produced by a Softmax activation and thus does not represent logits. Was this intended?\n",
            "  output, from_logits = _get_logits(\n"
          ]
        },
        {
          "name": "stdout",
          "output_type": "stream",
          "text": [
            "WARNING:tensorflow:From C:\\Users\\DELL\\anaconda3\\Lib\\site-packages\\keras\\src\\utils\\tf_utils.py:492: The name tf.ragged.RaggedTensorValue is deprecated. Please use tf.compat.v1.ragged.RaggedTensorValue instead.\n",
            "\n",
            "WARNING:tensorflow:From C:\\Users\\DELL\\anaconda3\\Lib\\site-packages\\keras\\src\\engine\\base_layer_utils.py:384: The name tf.executing_eagerly_outside_functions is deprecated. Please use tf.compat.v1.executing_eagerly_outside_functions instead.\n",
            "\n",
            "150/150 [==============================] - 404s 3s/step - loss: 1.9443 - categorical_accuracy: 0.4802 - accuracy: 0.4802 - val_loss: 0.7819 - val_categorical_accuracy: 0.8044 - val_accuracy: 0.8044\n",
            "Epoch 2/25\n",
            "150/150 [==============================] - 293s 2s/step - loss: 0.7505 - categorical_accuracy: 0.7912 - accuracy: 0.7912 - val_loss: 0.5128 - val_categorical_accuracy: 0.8575 - val_accuracy: 0.8575\n",
            "Epoch 3/25\n",
            "150/150 [==============================] - 273s 2s/step - loss: 0.5527 - categorical_accuracy: 0.8377 - accuracy: 0.8377 - val_loss: 0.3884 - val_categorical_accuracy: 0.8875 - val_accuracy: 0.8875\n",
            "Epoch 4/25\n",
            "150/150 [==============================] - 259s 2s/step - loss: 0.4517 - categorical_accuracy: 0.8660 - accuracy: 0.8660 - val_loss: 0.3230 - val_categorical_accuracy: 0.9050 - val_accuracy: 0.9050\n",
            "Epoch 5/25\n",
            "150/150 [==============================] - 244s 2s/step - loss: 0.3977 - categorical_accuracy: 0.8829 - accuracy: 0.8829 - val_loss: 0.3066 - val_categorical_accuracy: 0.9041 - val_accuracy: 0.9041\n",
            "Epoch 6/25\n",
            "150/150 [==============================] - 203s 1s/step - loss: 0.3658 - categorical_accuracy: 0.8900 - accuracy: 0.8900 - val_loss: 0.2572 - val_categorical_accuracy: 0.9259 - val_accuracy: 0.9259\n",
            "Epoch 7/25\n",
            "150/150 [==============================] - 206s 1s/step - loss: 0.3382 - categorical_accuracy: 0.8915 - accuracy: 0.8915 - val_loss: 0.2412 - val_categorical_accuracy: 0.9259 - val_accuracy: 0.9259\n",
            "Epoch 8/25\n",
            "150/150 [==============================] - 252s 2s/step - loss: 0.3173 - categorical_accuracy: 0.9038 - accuracy: 0.9038 - val_loss: 0.2176 - val_categorical_accuracy: 0.9384 - val_accuracy: 0.9384\n",
            "Epoch 9/25\n",
            "150/150 [==============================] - 197s 1s/step - loss: 0.3061 - categorical_accuracy: 0.9040 - accuracy: 0.9040 - val_loss: 0.2163 - val_categorical_accuracy: 0.9359 - val_accuracy: 0.9359\n",
            "Epoch 10/25\n",
            "150/150 [==============================] - 195s 1s/step - loss: 0.2863 - categorical_accuracy: 0.9083 - accuracy: 0.9083 - val_loss: 0.2178 - val_categorical_accuracy: 0.9278 - val_accuracy: 0.9278\n",
            "Epoch 11/25\n",
            "150/150 [==============================] - 194s 1s/step - loss: 0.2619 - categorical_accuracy: 0.9167 - accuracy: 0.9167 - val_loss: 0.2033 - val_categorical_accuracy: 0.9381 - val_accuracy: 0.9381\n",
            "Epoch 12/25\n",
            "150/150 [==============================] - 193s 1s/step - loss: 0.2705 - categorical_accuracy: 0.9154 - accuracy: 0.9154 - val_loss: 0.1972 - val_categorical_accuracy: 0.9378 - val_accuracy: 0.9378\n",
            "Epoch 13/25\n",
            "150/150 [==============================] - 192s 1s/step - loss: 0.2657 - categorical_accuracy: 0.9169 - accuracy: 0.9169 - val_loss: 0.2125 - val_categorical_accuracy: 0.9337 - val_accuracy: 0.9337\n",
            "Epoch 14/25\n",
            "150/150 [==============================] - 191s 1s/step - loss: 0.2542 - categorical_accuracy: 0.9133 - accuracy: 0.9133 - val_loss: 0.1935 - val_categorical_accuracy: 0.9366 - val_accuracy: 0.9366\n",
            "Epoch 15/25\n",
            "150/150 [==============================] - 190s 1s/step - loss: 0.2490 - categorical_accuracy: 0.9173 - accuracy: 0.9173 - val_loss: 0.1956 - val_categorical_accuracy: 0.9375 - val_accuracy: 0.9375\n",
            "Epoch 16/25\n",
            "150/150 [==============================] - 190s 1s/step - loss: 0.2412 - categorical_accuracy: 0.9217 - accuracy: 0.9217 - val_loss: 0.1823 - val_categorical_accuracy: 0.9378 - val_accuracy: 0.9378\n",
            "Epoch 17/25\n",
            "150/150 [==============================] - 189s 1s/step - loss: 0.2393 - categorical_accuracy: 0.9251 - accuracy: 0.9251 - val_loss: 0.1926 - val_categorical_accuracy: 0.9372 - val_accuracy: 0.9372\n",
            "Epoch 18/25\n",
            "150/150 [==============================] - 190s 1s/step - loss: 0.2204 - categorical_accuracy: 0.9279 - accuracy: 0.9279 - val_loss: 0.1872 - val_categorical_accuracy: 0.9394 - val_accuracy: 0.9394\n",
            "Epoch 19/25\n",
            "150/150 [==============================] - 189s 1s/step - loss: 0.2261 - categorical_accuracy: 0.9269 - accuracy: 0.9269 - val_loss: 0.1702 - val_categorical_accuracy: 0.9403 - val_accuracy: 0.9403\n",
            "Epoch 20/25\n",
            "150/150 [==============================] - 187s 1s/step - loss: 0.2097 - categorical_accuracy: 0.9337 - accuracy: 0.9337 - val_loss: 0.1591 - val_categorical_accuracy: 0.9484 - val_accuracy: 0.9484\n",
            "Epoch 21/25\n",
            "150/150 [==============================] - 188s 1s/step - loss: 0.1970 - categorical_accuracy: 0.9350 - accuracy: 0.9350 - val_loss: 0.1633 - val_categorical_accuracy: 0.9450 - val_accuracy: 0.9450\n",
            "Epoch 22/25\n",
            "150/150 [==============================] - 186s 1s/step - loss: 0.2240 - categorical_accuracy: 0.9250 - accuracy: 0.9250 - val_loss: 0.1404 - val_categorical_accuracy: 0.9559 - val_accuracy: 0.9559\n",
            "Epoch 23/25\n",
            "150/150 [==============================] - 186s 1s/step - loss: 0.2076 - categorical_accuracy: 0.9279 - accuracy: 0.9279 - val_loss: 0.1416 - val_categorical_accuracy: 0.9513 - val_accuracy: 0.9513\n",
            "Epoch 24/25\n",
            "150/150 [==============================] - 193s 1s/step - loss: 0.2167 - categorical_accuracy: 0.9294 - accuracy: 0.9294 - val_loss: 0.1643 - val_categorical_accuracy: 0.9463 - val_accuracy: 0.9463\n",
            "Epoch 25/25\n",
            "150/150 [==============================] - 215s 1s/step - loss: 0.2060 - categorical_accuracy: 0.9348 - accuracy: 0.9348 - val_loss: 0.1419 - val_categorical_accuracy: 0.9547 - val_accuracy: 0.9547\n"
          ]
        }
      ],
      "source": [
        "history = model.fit(train_data,\n",
        "                    validation_data=test_data,\n",
        "                    epochs=epochs,\n",
        "                    steps_per_epoch=150,\n",
        "                    validation_steps=100)"
      ]
    },
    {
      "cell_type": "markdown",
      "id": "9646b462",
      "metadata": {
        "papermill": {
          "duration": 0.253382,
          "end_time": "2023-03-31T11:15:20.827310",
          "exception": false,
          "start_time": "2023-03-31T11:15:20.573928",
          "status": "completed"
        },
        "tags": [],
        "id": "9646b462"
      },
      "source": [
        "## Visualizing the training process"
      ]
    },
    {
      "cell_type": "code",
      "execution_count": null,
      "id": "bc309ac3",
      "metadata": {
        "execution": {
          "iopub.execute_input": "2023-03-31T11:15:21.337791Z",
          "iopub.status.busy": "2023-03-31T11:15:21.335932Z",
          "iopub.status.idle": "2023-03-31T11:15:21.641069Z",
          "shell.execute_reply": "2023-03-31T11:15:21.639661Z"
        },
        "papermill": {
          "duration": 0.564475,
          "end_time": "2023-03-31T11:15:21.643968",
          "exception": false,
          "start_time": "2023-03-31T11:15:21.079493",
          "status": "completed"
        },
        "tags": [],
        "id": "bc309ac3",
        "outputId": "e3369eec-96ec-4ae8-d0b0-c86fe6378e9a"
      },
      "outputs": [
        {
          "data": {
            "text/plain": [
              "<matplotlib.legend.Legend at 0x28808e59110>"
            ]
          },
          "execution_count": 13,
          "metadata": {},
          "output_type": "execute_result"
        },
        {
          "data": {
            "image/png": "[encoded data removed]",
            "text/plain": [
              "<Figure size 1000x600 with 1 Axes>"
            ]
          },
          "metadata": {},
          "output_type": "display_data"
        }
      ],
      "source": [
        "loss = history.history['loss']\n",
        "val_loss = history.history['val_loss']\n",
        "\n",
        "epochs = range(len(loss))\n",
        "\n",
        "fig = plt.figure(figsize=(10,6))\n",
        "plt.plot(epochs,loss,c=\"orange\",label=\"Training\")\n",
        "plt.plot(epochs,val_loss,c=\"blue\",label=\"Validation\")\n",
        "plt.xlabel(\"Epochs\")\n",
        "plt.ylabel(\"Loss\")\n",
        "plt.legend()"
      ]
    },
    {
      "cell_type": "code",
      "execution_count": null,
      "id": "d706088f",
      "metadata": {
        "execution": {
          "iopub.execute_input": "2023-03-31T11:15:22.155578Z",
          "iopub.status.busy": "2023-03-31T11:15:22.155146Z",
          "iopub.status.idle": "2023-03-31T11:15:22.439211Z",
          "shell.execute_reply": "2023-03-31T11:15:22.437716Z"
        },
        "papermill": {
          "duration": 0.54465,
          "end_time": "2023-03-31T11:15:22.442117",
          "exception": false,
          "start_time": "2023-03-31T11:15:21.897467",
          "status": "completed"
        },
        "tags": [],
        "id": "d706088f",
        "outputId": "7f51dde3-f673-4495-bdee-78dca67c7e4d"
      },
      "outputs": [
        {
          "data": {
            "text/plain": [
              "<matplotlib.legend.Legend at 0x2880b85ead0>"
            ]
          },
          "execution_count": 14,
          "metadata": {},
          "output_type": "execute_result"
        },
        {
          "data": {
            "image/png": "[encoded data removed]",
            "text/plain": [
              "<Figure size 1000x600 with 1 Axes>"
            ]
          },
          "metadata": {},
          "output_type": "display_data"
        }
      ],
      "source": [
        "acc = history.history['categorical_accuracy']\n",
        "val_acc = history.history['val_categorical_accuracy']\n",
        "\n",
        "epochs = range(len(acc))\n",
        "\n",
        "fig = plt.figure(figsize=(10,6))\n",
        "plt.plot(epochs,acc,c=\"orange\",label=\"Training\")\n",
        "plt.plot(epochs,val_acc,c=\"blue\",label=\"Validation\")\n",
        "plt.xlabel(\"Epochs\")\n",
        "plt.ylabel(\"Accuracy\")\n",
        "plt.legend()"
      ]
    },
    {
      "cell_type": "markdown",
      "id": "463cda02",
      "metadata": {
        "papermill": {
          "duration": 0.255082,
          "end_time": "2023-03-31T11:15:22.959380",
          "exception": false,
          "start_time": "2023-03-31T11:15:22.704298",
          "status": "completed"
        },
        "tags": [],
        "id": "463cda02"
      },
      "source": [
        "## Save the model\n",
        "- We finally save the model in the standard TensorFlow 2 SavedModel format using .save()"
      ]
    },
    {
      "cell_type": "code",
      "execution_count": null,
      "id": "0067dc1a",
      "metadata": {
        "execution": {
          "iopub.execute_input": "2023-03-31T11:15:23.566227Z",
          "iopub.status.busy": "2023-03-31T11:15:23.565314Z",
          "iopub.status.idle": "2023-03-31T11:15:37.341767Z",
          "shell.execute_reply": "2023-03-31T11:15:37.340126Z"
        },
        "papermill": {
          "duration": 14.11882,
          "end_time": "2023-03-31T11:15:37.345403",
          "exception": false,
          "start_time": "2023-03-31T11:15:23.226583",
          "status": "completed"
        },
        "tags": [],
        "id": "0067dc1a",
        "outputId": "2c66eb81-c1b0-4b2c-f2e9-0ece30639a4b"
      },
      "outputs": [
        {
          "name": "stderr",
          "output_type": "stream",
          "text": [
            "C:\\Users\\DELL\\anaconda3\\Lib\\site-packages\\keras\\src\\engine\\training.py:3103: UserWarning: You are saving your model as an HDF5 file via `model.save()`. This file format is considered legacy. We recommend using instead the native Keras format, e.g. `model.save('my_model.keras')`.\n",
            "  saving_api.save_model(\n"
          ]
        }
      ],
      "source": [
        "model.save(r'C:\\Users\\DELL\\Downloads\\plant_models\\plant_leaf_disease_detection_MobileNet.h5')"
      ]
    },
    {
      "cell_type": "code",
      "execution_count": null,
      "id": "ee812117",
      "metadata": {
        "id": "ee812117",
        "outputId": "1ad32785-7726-4a11-f50b-e95c9f1805ff"
      },
      "outputs": [
        {
          "ename": "TypeError",
          "evalue": "Error when deserializing class 'DepthwiseConv2D' using config={'name': 'conv_dw_1', 'trainable': False, 'dtype': 'float32', 'kernel_size': [3, 3], 'strides': [1, 1], 'padding': 'same', 'data_format': 'channels_last', 'dilation_rate': [1, 1], 'groups': 1, 'activation': 'linear', 'use_bias': False, 'bias_initializer': {'module': 'keras.initializers', 'class_name': 'Zeros', 'config': {}, 'registered_name': None}, 'bias_regularizer': None, 'activity_regularizer': None, 'bias_constraint': None, 'depth_multiplier': 1, 'depthwise_initializer': {'module': 'keras.initializers', 'class_name': 'GlorotUniform', 'config': {'seed': None}, 'registered_name': None}, 'depthwise_regularizer': None, 'depthwise_constraint': None}.\n\nException encountered: Unrecognized keyword arguments passed to DepthwiseConv2D: {'groups': 1}",
          "output_type": "error",
          "traceback": [
            "\u001b[1;31m---------------------------------------------------------------------------\u001b[0m",
            "\u001b[1;31mValueError\u001b[0m                                Traceback (most recent call last)",
            "File \u001b[1;32m~\\anaconda3\\Lib\\site-packages\\keras\\src\\ops\\operation.py:196\u001b[0m, in \u001b[0;36mOperation.from_config\u001b[1;34m(cls, config)\u001b[0m\n\u001b[0;32m    195\u001b[0m \u001b[38;5;28;01mtry\u001b[39;00m:\n\u001b[1;32m--> 196\u001b[0m     \u001b[38;5;28;01mreturn\u001b[39;00m \u001b[38;5;28mcls\u001b[39m(\u001b[38;5;241m*\u001b[39m\u001b[38;5;241m*\u001b[39mconfig)\n\u001b[0;32m    197\u001b[0m \u001b[38;5;28;01mexcept\u001b[39;00m \u001b[38;5;167;01mException\u001b[39;00m \u001b[38;5;28;01mas\u001b[39;00m e:\n",
            "File \u001b[1;32m~\\anaconda3\\Lib\\site-packages\\keras\\src\\layers\\convolutional\\depthwise_conv2d.py:118\u001b[0m, in \u001b[0;36mDepthwiseConv2D.__init__\u001b[1;34m(self, kernel_size, strides, padding, depth_multiplier, data_format, dilation_rate, activation, use_bias, depthwise_initializer, bias_initializer, depthwise_regularizer, bias_regularizer, activity_regularizer, depthwise_constraint, bias_constraint, **kwargs)\u001b[0m\n\u001b[0;32m     99\u001b[0m \u001b[38;5;28;01mdef\u001b[39;00m \u001b[38;5;21m__init__\u001b[39m(\n\u001b[0;32m    100\u001b[0m     \u001b[38;5;28mself\u001b[39m,\n\u001b[0;32m    101\u001b[0m     kernel_size,\n\u001b[1;32m   (...)\u001b[0m\n\u001b[0;32m    116\u001b[0m     \u001b[38;5;241m*\u001b[39m\u001b[38;5;241m*\u001b[39mkwargs\n\u001b[0;32m    117\u001b[0m ):\n\u001b[1;32m--> 118\u001b[0m     \u001b[38;5;28msuper\u001b[39m()\u001b[38;5;241m.\u001b[39m\u001b[38;5;21m__init__\u001b[39m(\n\u001b[0;32m    119\u001b[0m         rank\u001b[38;5;241m=\u001b[39m\u001b[38;5;241m2\u001b[39m,\n\u001b[0;32m    120\u001b[0m         depth_multiplier\u001b[38;5;241m=\u001b[39mdepth_multiplier,\n\u001b[0;32m    121\u001b[0m         kernel_size\u001b[38;5;241m=\u001b[39mkernel_size,\n\u001b[0;32m    122\u001b[0m         strides\u001b[38;5;241m=\u001b[39mstrides,\n\u001b[0;32m    123\u001b[0m         padding\u001b[38;5;241m=\u001b[39mpadding,\n\u001b[0;32m    124\u001b[0m         data_format\u001b[38;5;241m=\u001b[39mdata_format,\n\u001b[0;32m    125\u001b[0m         dilation_rate\u001b[38;5;241m=\u001b[39mdilation_rate,\n\u001b[0;32m    126\u001b[0m         activation\u001b[38;5;241m=\u001b[39mactivation,\n\u001b[0;32m    127\u001b[0m         use_bias\u001b[38;5;241m=\u001b[39muse_bias,\n\u001b[0;32m    128\u001b[0m         depthwise_initializer\u001b[38;5;241m=\u001b[39mdepthwise_initializer,\n\u001b[0;32m    129\u001b[0m         bias_initializer\u001b[38;5;241m=\u001b[39mbias_initializer,\n\u001b[0;32m    130\u001b[0m         depthwise_regularizer\u001b[38;5;241m=\u001b[39mdepthwise_regularizer,\n\u001b[0;32m    131\u001b[0m         bias_regularizer\u001b[38;5;241m=\u001b[39mbias_regularizer,\n\u001b[0;32m    132\u001b[0m         activity_regularizer\u001b[38;5;241m=\u001b[39mactivity_regularizer,\n\u001b[0;32m    133\u001b[0m         depthwise_constraint\u001b[38;5;241m=\u001b[39mdepthwise_constraint,\n\u001b[0;32m    134\u001b[0m         bias_constraint\u001b[38;5;241m=\u001b[39mbias_constraint,\n\u001b[0;32m    135\u001b[0m         \u001b[38;5;241m*\u001b[39m\u001b[38;5;241m*\u001b[39mkwargs\n\u001b[0;32m    136\u001b[0m     )\n",
            "File \u001b[1;32m~\\anaconda3\\Lib\\site-packages\\keras\\src\\layers\\convolutional\\base_depthwise_conv.py:106\u001b[0m, in \u001b[0;36mBaseDepthwiseConv.__init__\u001b[1;34m(self, rank, depth_multiplier, kernel_size, strides, padding, data_format, dilation_rate, activation, use_bias, depthwise_initializer, bias_initializer, depthwise_regularizer, bias_regularizer, activity_regularizer, depthwise_constraint, bias_constraint, trainable, name, **kwargs)\u001b[0m\n\u001b[0;32m     84\u001b[0m \u001b[38;5;28;01mdef\u001b[39;00m \u001b[38;5;21m__init__\u001b[39m(\n\u001b[0;32m     85\u001b[0m     \u001b[38;5;28mself\u001b[39m,\n\u001b[0;32m     86\u001b[0m     rank,\n\u001b[1;32m   (...)\u001b[0m\n\u001b[0;32m    104\u001b[0m     \u001b[38;5;241m*\u001b[39m\u001b[38;5;241m*\u001b[39mkwargs,\n\u001b[0;32m    105\u001b[0m ):\n\u001b[1;32m--> 106\u001b[0m     \u001b[38;5;28msuper\u001b[39m()\u001b[38;5;241m.\u001b[39m\u001b[38;5;21m__init__\u001b[39m(\n\u001b[0;32m    107\u001b[0m         trainable\u001b[38;5;241m=\u001b[39mtrainable,\n\u001b[0;32m    108\u001b[0m         name\u001b[38;5;241m=\u001b[39mname,\n\u001b[0;32m    109\u001b[0m         activity_regularizer\u001b[38;5;241m=\u001b[39mregularizers\u001b[38;5;241m.\u001b[39mget(activity_regularizer),\n\u001b[0;32m    110\u001b[0m         \u001b[38;5;241m*\u001b[39m\u001b[38;5;241m*\u001b[39mkwargs,\n\u001b[0;32m    111\u001b[0m     )\n\u001b[0;32m    112\u001b[0m     \u001b[38;5;28mself\u001b[39m\u001b[38;5;241m.\u001b[39mrank \u001b[38;5;241m=\u001b[39m rank\n",
            "File \u001b[1;32m~\\anaconda3\\Lib\\site-packages\\keras\\src\\layers\\layer.py:265\u001b[0m, in \u001b[0;36mLayer.__init__\u001b[1;34m(self, activity_regularizer, trainable, dtype, autocast, name, **kwargs)\u001b[0m\n\u001b[0;32m    264\u001b[0m \u001b[38;5;28;01mif\u001b[39;00m kwargs:\n\u001b[1;32m--> 265\u001b[0m     \u001b[38;5;28;01mraise\u001b[39;00m \u001b[38;5;167;01mValueError\u001b[39;00m(\n\u001b[0;32m    266\u001b[0m         \u001b[38;5;124m\"\u001b[39m\u001b[38;5;124mUnrecognized keyword arguments \u001b[39m\u001b[38;5;124m\"\u001b[39m\n\u001b[0;32m    267\u001b[0m         \u001b[38;5;124mf\u001b[39m\u001b[38;5;124m\"\u001b[39m\u001b[38;5;124mpassed to \u001b[39m\u001b[38;5;132;01m{\u001b[39;00m\u001b[38;5;28mself\u001b[39m\u001b[38;5;241m.\u001b[39m\u001b[38;5;18m__class__\u001b[39m\u001b[38;5;241m.\u001b[39m\u001b[38;5;18m__name__\u001b[39m\u001b[38;5;132;01m}\u001b[39;00m\u001b[38;5;124m: \u001b[39m\u001b[38;5;132;01m{\u001b[39;00mkwargs\u001b[38;5;132;01m}\u001b[39;00m\u001b[38;5;124m\"\u001b[39m\n\u001b[0;32m    268\u001b[0m     )\n\u001b[0;32m    270\u001b[0m \u001b[38;5;28mself\u001b[39m\u001b[38;5;241m.\u001b[39mbuilt \u001b[38;5;241m=\u001b[39m \u001b[38;5;28;01mFalse\u001b[39;00m\n",
            "\u001b[1;31mValueError\u001b[0m: Unrecognized keyword arguments passed to DepthwiseConv2D: {'groups': 1}",
            "\nDuring handling of the above exception, another exception occurred:\n",
            "\u001b[1;31mTypeError\u001b[0m                                 Traceback (most recent call last)",
            "Cell \u001b[1;32mIn[1], line 21\u001b[0m\n\u001b[0;32m      7\u001b[0m classes \u001b[38;5;241m=\u001b[39m [\u001b[38;5;124m'\u001b[39m\u001b[38;5;124mApple___Apple_scab\u001b[39m\u001b[38;5;124m'\u001b[39m, \u001b[38;5;124m'\u001b[39m\u001b[38;5;124mApple___Black_rot\u001b[39m\u001b[38;5;124m'\u001b[39m, \u001b[38;5;124m'\u001b[39m\u001b[38;5;124mApple___Cedar_apple_rust\u001b[39m\u001b[38;5;124m'\u001b[39m, \u001b[38;5;124m'\u001b[39m\u001b[38;5;124mApple___healthy\u001b[39m\u001b[38;5;124m'\u001b[39m,\n\u001b[0;32m      8\u001b[0m            \u001b[38;5;124m'\u001b[39m\u001b[38;5;124mBlueberry___healthy\u001b[39m\u001b[38;5;124m'\u001b[39m, \u001b[38;5;124m'\u001b[39m\u001b[38;5;124mCherry___healthy\u001b[39m\u001b[38;5;124m'\u001b[39m, \u001b[38;5;124m'\u001b[39m\u001b[38;5;124mCherry___Powdery_mildew\u001b[39m\u001b[38;5;124m'\u001b[39m,\n\u001b[0;32m      9\u001b[0m            \u001b[38;5;124m'\u001b[39m\u001b[38;5;124mCorn___Cercospora_leaf_spot Gray_leaf_spot\u001b[39m\u001b[38;5;124m'\u001b[39m, \u001b[38;5;124m'\u001b[39m\u001b[38;5;124mCorn___Common_rust\u001b[39m\u001b[38;5;124m'\u001b[39m, \u001b[38;5;124m'\u001b[39m\u001b[38;5;124mCorn___healthy\u001b[39m\u001b[38;5;124m'\u001b[39m,\n\u001b[1;32m   (...)\u001b[0m\n\u001b[0;32m     17\u001b[0m            \u001b[38;5;124m'\u001b[39m\u001b[38;5;124mTomato___Leaf_Mold\u001b[39m\u001b[38;5;124m'\u001b[39m, \u001b[38;5;124m'\u001b[39m\u001b[38;5;124mTomato___Septoria_leaf_spot\u001b[39m\u001b[38;5;124m'\u001b[39m, \u001b[38;5;124m'\u001b[39m\u001b[38;5;124mTomato___Spider_mites Two-spotted_spider_mite\u001b[39m\u001b[38;5;124m'\u001b[39m,\n\u001b[0;32m     18\u001b[0m            \u001b[38;5;124m'\u001b[39m\u001b[38;5;124mTomato___Target_Spot\u001b[39m\u001b[38;5;124m'\u001b[39m, \u001b[38;5;124m'\u001b[39m\u001b[38;5;124mTomato___Tomato_mosaic_virus\u001b[39m\u001b[38;5;124m'\u001b[39m, \u001b[38;5;124m'\u001b[39m\u001b[38;5;124mTomato___Tomato_Yellow_Leaf_Curl_Virus\u001b[39m\u001b[38;5;124m'\u001b[39m]\n\u001b[0;32m     20\u001b[0m \u001b[38;5;66;03m# Load and compile your trained model\u001b[39;00m\n\u001b[1;32m---> 21\u001b[0m model \u001b[38;5;241m=\u001b[39m tf\u001b[38;5;241m.\u001b[39mkeras\u001b[38;5;241m.\u001b[39mmodels\u001b[38;5;241m.\u001b[39mload_model(\u001b[38;5;124mr\u001b[39m\u001b[38;5;124m'\u001b[39m\u001b[38;5;124mC:\u001b[39m\u001b[38;5;124m\\\u001b[39m\u001b[38;5;124mUsers\u001b[39m\u001b[38;5;124m\\\u001b[39m\u001b[38;5;124mDELL\u001b[39m\u001b[38;5;124m\\\u001b[39m\u001b[38;5;124mDownloads\u001b[39m\u001b[38;5;124m\\\u001b[39m\u001b[38;5;124mplant_models\u001b[39m\u001b[38;5;124m\\\u001b[39m\u001b[38;5;124mplant_leaf_disease_detection_MobileNet.h5\u001b[39m\u001b[38;5;124m'\u001b[39m)\n\u001b[0;32m     22\u001b[0m model\u001b[38;5;241m.\u001b[39mcompile(optimizer\u001b[38;5;241m=\u001b[39m\u001b[38;5;124m'\u001b[39m\u001b[38;5;124madam\u001b[39m\u001b[38;5;124m'\u001b[39m, loss\u001b[38;5;241m=\u001b[39m\u001b[38;5;124m'\u001b[39m\u001b[38;5;124mcategorical_crossentropy\u001b[39m\u001b[38;5;124m'\u001b[39m, metrics\u001b[38;5;241m=\u001b[39m[\u001b[38;5;124m'\u001b[39m\u001b[38;5;124maccuracy\u001b[39m\u001b[38;5;124m'\u001b[39m])\n\u001b[0;32m     24\u001b[0m \u001b[38;5;66;03m# Select an input image from your dataset\u001b[39;00m\n",
            "File \u001b[1;32m~\\anaconda3\\Lib\\site-packages\\keras\\src\\saving\\saving_api.py:183\u001b[0m, in \u001b[0;36mload_model\u001b[1;34m(filepath, custom_objects, compile, safe_mode)\u001b[0m\n\u001b[0;32m    176\u001b[0m     \u001b[38;5;28;01mreturn\u001b[39;00m saving_lib\u001b[38;5;241m.\u001b[39mload_model(\n\u001b[0;32m    177\u001b[0m         filepath,\n\u001b[0;32m    178\u001b[0m         custom_objects\u001b[38;5;241m=\u001b[39mcustom_objects,\n\u001b[0;32m    179\u001b[0m         \u001b[38;5;28mcompile\u001b[39m\u001b[38;5;241m=\u001b[39m\u001b[38;5;28mcompile\u001b[39m,\n\u001b[0;32m    180\u001b[0m         safe_mode\u001b[38;5;241m=\u001b[39msafe_mode,\n\u001b[0;32m    181\u001b[0m     )\n\u001b[0;32m    182\u001b[0m \u001b[38;5;28;01mif\u001b[39;00m \u001b[38;5;28mstr\u001b[39m(filepath)\u001b[38;5;241m.\u001b[39mendswith((\u001b[38;5;124m\"\u001b[39m\u001b[38;5;124m.h5\u001b[39m\u001b[38;5;124m\"\u001b[39m, \u001b[38;5;124m\"\u001b[39m\u001b[38;5;124m.hdf5\u001b[39m\u001b[38;5;124m\"\u001b[39m)):\n\u001b[1;32m--> 183\u001b[0m     \u001b[38;5;28;01mreturn\u001b[39;00m legacy_h5_format\u001b[38;5;241m.\u001b[39mload_model_from_hdf5(filepath)\n\u001b[0;32m    184\u001b[0m \u001b[38;5;28;01melif\u001b[39;00m \u001b[38;5;28mstr\u001b[39m(filepath)\u001b[38;5;241m.\u001b[39mendswith(\u001b[38;5;124m\"\u001b[39m\u001b[38;5;124m.keras\u001b[39m\u001b[38;5;124m\"\u001b[39m):\n\u001b[0;32m    185\u001b[0m     \u001b[38;5;28;01mraise\u001b[39;00m \u001b[38;5;167;01mValueError\u001b[39;00m(\n\u001b[0;32m    186\u001b[0m         \u001b[38;5;124mf\u001b[39m\u001b[38;5;124m\"\u001b[39m\u001b[38;5;124mFile not found: filepath=\u001b[39m\u001b[38;5;132;01m{\u001b[39;00mfilepath\u001b[38;5;132;01m}\u001b[39;00m\u001b[38;5;124m. \u001b[39m\u001b[38;5;124m\"\u001b[39m\n\u001b[0;32m    187\u001b[0m         \u001b[38;5;124m\"\u001b[39m\u001b[38;5;124mPlease ensure the file is an accessible `.keras` \u001b[39m\u001b[38;5;124m\"\u001b[39m\n\u001b[0;32m    188\u001b[0m         \u001b[38;5;124m\"\u001b[39m\u001b[38;5;124mzip file.\u001b[39m\u001b[38;5;124m\"\u001b[39m\n\u001b[0;32m    189\u001b[0m     )\n",
            "File \u001b[1;32m~\\anaconda3\\Lib\\site-packages\\keras\\src\\legacy\\saving\\legacy_h5_format.py:133\u001b[0m, in \u001b[0;36mload_model_from_hdf5\u001b[1;34m(filepath, custom_objects, compile)\u001b[0m\n\u001b[0;32m    130\u001b[0m model_config \u001b[38;5;241m=\u001b[39m json_utils\u001b[38;5;241m.\u001b[39mdecode(model_config)\n\u001b[0;32m    132\u001b[0m \u001b[38;5;28;01mwith\u001b[39;00m saving_options\u001b[38;5;241m.\u001b[39mkeras_option_scope(use_legacy_config\u001b[38;5;241m=\u001b[39m\u001b[38;5;28;01mTrue\u001b[39;00m):\n\u001b[1;32m--> 133\u001b[0m     model \u001b[38;5;241m=\u001b[39m saving_utils\u001b[38;5;241m.\u001b[39mmodel_from_config(\n\u001b[0;32m    134\u001b[0m         model_config, custom_objects\u001b[38;5;241m=\u001b[39mcustom_objects\n\u001b[0;32m    135\u001b[0m     )\n\u001b[0;32m    137\u001b[0m     \u001b[38;5;66;03m# set weights\u001b[39;00m\n\u001b[0;32m    138\u001b[0m     load_weights_from_hdf5_group(f[\u001b[38;5;124m\"\u001b[39m\u001b[38;5;124mmodel_weights\u001b[39m\u001b[38;5;124m\"\u001b[39m], model)\n",
            "File \u001b[1;32m~\\anaconda3\\Lib\\site-packages\\keras\\src\\legacy\\saving\\saving_utils.py:85\u001b[0m, in \u001b[0;36mmodel_from_config\u001b[1;34m(config, custom_objects)\u001b[0m\n\u001b[0;32m     81\u001b[0m \u001b[38;5;66;03m# TODO(nkovela): Swap find and replace args during Keras 3.0 release\u001b[39;00m\n\u001b[0;32m     82\u001b[0m \u001b[38;5;66;03m# Replace keras refs with keras\u001b[39;00m\n\u001b[0;32m     83\u001b[0m config \u001b[38;5;241m=\u001b[39m _find_replace_nested_dict(config, \u001b[38;5;124m\"\u001b[39m\u001b[38;5;124mkeras.\u001b[39m\u001b[38;5;124m\"\u001b[39m, \u001b[38;5;124m\"\u001b[39m\u001b[38;5;124mkeras.\u001b[39m\u001b[38;5;124m\"\u001b[39m)\n\u001b[1;32m---> 85\u001b[0m \u001b[38;5;28;01mreturn\u001b[39;00m serialization\u001b[38;5;241m.\u001b[39mdeserialize_keras_object(\n\u001b[0;32m     86\u001b[0m     config,\n\u001b[0;32m     87\u001b[0m     module_objects\u001b[38;5;241m=\u001b[39mMODULE_OBJECTS\u001b[38;5;241m.\u001b[39mALL_OBJECTS,\n\u001b[0;32m     88\u001b[0m     custom_objects\u001b[38;5;241m=\u001b[39mcustom_objects,\n\u001b[0;32m     89\u001b[0m     printable_module_name\u001b[38;5;241m=\u001b[39m\u001b[38;5;124m\"\u001b[39m\u001b[38;5;124mlayer\u001b[39m\u001b[38;5;124m\"\u001b[39m,\n\u001b[0;32m     90\u001b[0m )\n",
            "File \u001b[1;32m~\\anaconda3\\Lib\\site-packages\\keras\\src\\legacy\\saving\\serialization.py:495\u001b[0m, in \u001b[0;36mdeserialize_keras_object\u001b[1;34m(identifier, module_objects, custom_objects, printable_module_name)\u001b[0m\n\u001b[0;32m    490\u001b[0m cls_config \u001b[38;5;241m=\u001b[39m _find_replace_nested_dict(\n\u001b[0;32m    491\u001b[0m     cls_config, \u001b[38;5;124m\"\u001b[39m\u001b[38;5;124mkeras.\u001b[39m\u001b[38;5;124m\"\u001b[39m, \u001b[38;5;124m\"\u001b[39m\u001b[38;5;124mkeras.\u001b[39m\u001b[38;5;124m\"\u001b[39m\n\u001b[0;32m    492\u001b[0m )\n\u001b[0;32m    494\u001b[0m \u001b[38;5;28;01mif\u001b[39;00m \u001b[38;5;124m\"\u001b[39m\u001b[38;5;124mcustom_objects\u001b[39m\u001b[38;5;124m\"\u001b[39m \u001b[38;5;129;01min\u001b[39;00m arg_spec\u001b[38;5;241m.\u001b[39margs:\n\u001b[1;32m--> 495\u001b[0m     deserialized_obj \u001b[38;5;241m=\u001b[39m \u001b[38;5;28mcls\u001b[39m\u001b[38;5;241m.\u001b[39mfrom_config(\n\u001b[0;32m    496\u001b[0m         cls_config,\n\u001b[0;32m    497\u001b[0m         custom_objects\u001b[38;5;241m=\u001b[39m{\n\u001b[0;32m    498\u001b[0m             \u001b[38;5;241m*\u001b[39m\u001b[38;5;241m*\u001b[39mobject_registration\u001b[38;5;241m.\u001b[39mGLOBAL_CUSTOM_OBJECTS,\n\u001b[0;32m    499\u001b[0m             \u001b[38;5;241m*\u001b[39m\u001b[38;5;241m*\u001b[39mcustom_objects,\n\u001b[0;32m    500\u001b[0m         },\n\u001b[0;32m    501\u001b[0m     )\n\u001b[0;32m    502\u001b[0m \u001b[38;5;28;01melse\u001b[39;00m:\n\u001b[0;32m    503\u001b[0m     \u001b[38;5;28;01mwith\u001b[39;00m object_registration\u001b[38;5;241m.\u001b[39mCustomObjectScope(custom_objects):\n",
            "File \u001b[1;32m~\\anaconda3\\Lib\\site-packages\\keras\\src\\models\\model.py:492\u001b[0m, in \u001b[0;36mModel.from_config\u001b[1;34m(cls, config, custom_objects)\u001b[0m\n\u001b[0;32m    487\u001b[0m \u001b[38;5;28;01mif\u001b[39;00m is_functional_config \u001b[38;5;129;01mand\u001b[39;00m revivable_as_functional:\n\u001b[0;32m    488\u001b[0m     \u001b[38;5;66;03m# Revive Functional model\u001b[39;00m\n\u001b[0;32m    489\u001b[0m     \u001b[38;5;66;03m# (but not Functional subclasses with a custom __init__)\u001b[39;00m\n\u001b[0;32m    490\u001b[0m     \u001b[38;5;28;01mfrom\u001b[39;00m \u001b[38;5;21;01mkeras\u001b[39;00m\u001b[38;5;21;01m.\u001b[39;00m\u001b[38;5;21;01msrc\u001b[39;00m\u001b[38;5;21;01m.\u001b[39;00m\u001b[38;5;21;01mmodels\u001b[39;00m\u001b[38;5;21;01m.\u001b[39;00m\u001b[38;5;21;01mfunctional\u001b[39;00m \u001b[38;5;28;01mimport\u001b[39;00m functional_from_config\n\u001b[1;32m--> 492\u001b[0m     \u001b[38;5;28;01mreturn\u001b[39;00m functional_from_config(\n\u001b[0;32m    493\u001b[0m         \u001b[38;5;28mcls\u001b[39m, config, custom_objects\u001b[38;5;241m=\u001b[39mcustom_objects\n\u001b[0;32m    494\u001b[0m     )\n\u001b[0;32m    496\u001b[0m \u001b[38;5;66;03m# Either the model has a custom __init__, or the config\u001b[39;00m\n\u001b[0;32m    497\u001b[0m \u001b[38;5;66;03m# does not contain all the information necessary to\u001b[39;00m\n\u001b[0;32m    498\u001b[0m \u001b[38;5;66;03m# revive a Functional model. This happens when the user creates\u001b[39;00m\n\u001b[1;32m   (...)\u001b[0m\n\u001b[0;32m    501\u001b[0m \u001b[38;5;66;03m# In this case, we fall back to provide all config into the\u001b[39;00m\n\u001b[0;32m    502\u001b[0m \u001b[38;5;66;03m# constructor of the class.\u001b[39;00m\n\u001b[0;32m    503\u001b[0m \u001b[38;5;28;01mtry\u001b[39;00m:\n",
            "File \u001b[1;32m~\\anaconda3\\Lib\\site-packages\\keras\\src\\models\\functional.py:503\u001b[0m, in \u001b[0;36mfunctional_from_config\u001b[1;34m(cls, config, custom_objects)\u001b[0m\n\u001b[0;32m    501\u001b[0m \u001b[38;5;66;03m# First, we create all layers and enqueue nodes to be processed\u001b[39;00m\n\u001b[0;32m    502\u001b[0m \u001b[38;5;28;01mfor\u001b[39;00m layer_data \u001b[38;5;129;01min\u001b[39;00m config[\u001b[38;5;124m\"\u001b[39m\u001b[38;5;124mlayers\u001b[39m\u001b[38;5;124m\"\u001b[39m]:\n\u001b[1;32m--> 503\u001b[0m     process_layer(layer_data)\n\u001b[0;32m    505\u001b[0m \u001b[38;5;66;03m# Then we process nodes in order of layer depth.\u001b[39;00m\n\u001b[0;32m    506\u001b[0m \u001b[38;5;66;03m# Nodes that cannot yet be processed (if the inbound node\u001b[39;00m\n\u001b[0;32m    507\u001b[0m \u001b[38;5;66;03m# does not yet exist) are re-enqueued, and the process\u001b[39;00m\n\u001b[0;32m    508\u001b[0m \u001b[38;5;66;03m# is repeated until all nodes are processed.\u001b[39;00m\n\u001b[0;32m    509\u001b[0m \u001b[38;5;28;01mwhile\u001b[39;00m unprocessed_nodes:\n",
            "File \u001b[1;32m~\\anaconda3\\Lib\\site-packages\\keras\\src\\models\\functional.py:483\u001b[0m, in \u001b[0;36mfunctional_from_config.<locals>.process_layer\u001b[1;34m(layer_data)\u001b[0m\n\u001b[0;32m    479\u001b[0m \u001b[38;5;66;03m# Instantiate layer.\u001b[39;00m\n\u001b[0;32m    480\u001b[0m \u001b[38;5;28;01mif\u001b[39;00m \u001b[38;5;124m\"\u001b[39m\u001b[38;5;124mmodule\u001b[39m\u001b[38;5;124m\"\u001b[39m \u001b[38;5;129;01mnot\u001b[39;00m \u001b[38;5;129;01min\u001b[39;00m layer_data:\n\u001b[0;32m    481\u001b[0m     \u001b[38;5;66;03m# Legacy format deserialization (no \"module\" key)\u001b[39;00m\n\u001b[0;32m    482\u001b[0m     \u001b[38;5;66;03m# used for H5 and SavedModel formats\u001b[39;00m\n\u001b[1;32m--> 483\u001b[0m     layer \u001b[38;5;241m=\u001b[39m saving_utils\u001b[38;5;241m.\u001b[39mmodel_from_config(\n\u001b[0;32m    484\u001b[0m         layer_data, custom_objects\u001b[38;5;241m=\u001b[39mcustom_objects\n\u001b[0;32m    485\u001b[0m     )\n\u001b[0;32m    486\u001b[0m \u001b[38;5;28;01melse\u001b[39;00m:\n\u001b[0;32m    487\u001b[0m     layer \u001b[38;5;241m=\u001b[39m serialization_lib\u001b[38;5;241m.\u001b[39mdeserialize_keras_object(\n\u001b[0;32m    488\u001b[0m         layer_data, custom_objects\u001b[38;5;241m=\u001b[39mcustom_objects\n\u001b[0;32m    489\u001b[0m     )\n",
            "File \u001b[1;32m~\\anaconda3\\Lib\\site-packages\\keras\\src\\legacy\\saving\\saving_utils.py:85\u001b[0m, in \u001b[0;36mmodel_from_config\u001b[1;34m(config, custom_objects)\u001b[0m\n\u001b[0;32m     81\u001b[0m \u001b[38;5;66;03m# TODO(nkovela): Swap find and replace args during Keras 3.0 release\u001b[39;00m\n\u001b[0;32m     82\u001b[0m \u001b[38;5;66;03m# Replace keras refs with keras\u001b[39;00m\n\u001b[0;32m     83\u001b[0m config \u001b[38;5;241m=\u001b[39m _find_replace_nested_dict(config, \u001b[38;5;124m\"\u001b[39m\u001b[38;5;124mkeras.\u001b[39m\u001b[38;5;124m\"\u001b[39m, \u001b[38;5;124m\"\u001b[39m\u001b[38;5;124mkeras.\u001b[39m\u001b[38;5;124m\"\u001b[39m)\n\u001b[1;32m---> 85\u001b[0m \u001b[38;5;28;01mreturn\u001b[39;00m serialization\u001b[38;5;241m.\u001b[39mdeserialize_keras_object(\n\u001b[0;32m     86\u001b[0m     config,\n\u001b[0;32m     87\u001b[0m     module_objects\u001b[38;5;241m=\u001b[39mMODULE_OBJECTS\u001b[38;5;241m.\u001b[39mALL_OBJECTS,\n\u001b[0;32m     88\u001b[0m     custom_objects\u001b[38;5;241m=\u001b[39mcustom_objects,\n\u001b[0;32m     89\u001b[0m     printable_module_name\u001b[38;5;241m=\u001b[39m\u001b[38;5;124m\"\u001b[39m\u001b[38;5;124mlayer\u001b[39m\u001b[38;5;124m\"\u001b[39m,\n\u001b[0;32m     90\u001b[0m )\n",
            "File \u001b[1;32m~\\anaconda3\\Lib\\site-packages\\keras\\src\\legacy\\saving\\serialization.py:495\u001b[0m, in \u001b[0;36mdeserialize_keras_object\u001b[1;34m(identifier, module_objects, custom_objects, printable_module_name)\u001b[0m\n\u001b[0;32m    490\u001b[0m cls_config \u001b[38;5;241m=\u001b[39m _find_replace_nested_dict(\n\u001b[0;32m    491\u001b[0m     cls_config, \u001b[38;5;124m\"\u001b[39m\u001b[38;5;124mkeras.\u001b[39m\u001b[38;5;124m\"\u001b[39m, \u001b[38;5;124m\"\u001b[39m\u001b[38;5;124mkeras.\u001b[39m\u001b[38;5;124m\"\u001b[39m\n\u001b[0;32m    492\u001b[0m )\n\u001b[0;32m    494\u001b[0m \u001b[38;5;28;01mif\u001b[39;00m \u001b[38;5;124m\"\u001b[39m\u001b[38;5;124mcustom_objects\u001b[39m\u001b[38;5;124m\"\u001b[39m \u001b[38;5;129;01min\u001b[39;00m arg_spec\u001b[38;5;241m.\u001b[39margs:\n\u001b[1;32m--> 495\u001b[0m     deserialized_obj \u001b[38;5;241m=\u001b[39m \u001b[38;5;28mcls\u001b[39m\u001b[38;5;241m.\u001b[39mfrom_config(\n\u001b[0;32m    496\u001b[0m         cls_config,\n\u001b[0;32m    497\u001b[0m         custom_objects\u001b[38;5;241m=\u001b[39m{\n\u001b[0;32m    498\u001b[0m             \u001b[38;5;241m*\u001b[39m\u001b[38;5;241m*\u001b[39mobject_registration\u001b[38;5;241m.\u001b[39mGLOBAL_CUSTOM_OBJECTS,\n\u001b[0;32m    499\u001b[0m             \u001b[38;5;241m*\u001b[39m\u001b[38;5;241m*\u001b[39mcustom_objects,\n\u001b[0;32m    500\u001b[0m         },\n\u001b[0;32m    501\u001b[0m     )\n\u001b[0;32m    502\u001b[0m \u001b[38;5;28;01melse\u001b[39;00m:\n\u001b[0;32m    503\u001b[0m     \u001b[38;5;28;01mwith\u001b[39;00m object_registration\u001b[38;5;241m.\u001b[39mCustomObjectScope(custom_objects):\n",
            "File \u001b[1;32m~\\anaconda3\\Lib\\site-packages\\keras\\src\\models\\model.py:492\u001b[0m, in \u001b[0;36mModel.from_config\u001b[1;34m(cls, config, custom_objects)\u001b[0m\n\u001b[0;32m    487\u001b[0m \u001b[38;5;28;01mif\u001b[39;00m is_functional_config \u001b[38;5;129;01mand\u001b[39;00m revivable_as_functional:\n\u001b[0;32m    488\u001b[0m     \u001b[38;5;66;03m# Revive Functional model\u001b[39;00m\n\u001b[0;32m    489\u001b[0m     \u001b[38;5;66;03m# (but not Functional subclasses with a custom __init__)\u001b[39;00m\n\u001b[0;32m    490\u001b[0m     \u001b[38;5;28;01mfrom\u001b[39;00m \u001b[38;5;21;01mkeras\u001b[39;00m\u001b[38;5;21;01m.\u001b[39;00m\u001b[38;5;21;01msrc\u001b[39;00m\u001b[38;5;21;01m.\u001b[39;00m\u001b[38;5;21;01mmodels\u001b[39;00m\u001b[38;5;21;01m.\u001b[39;00m\u001b[38;5;21;01mfunctional\u001b[39;00m \u001b[38;5;28;01mimport\u001b[39;00m functional_from_config\n\u001b[1;32m--> 492\u001b[0m     \u001b[38;5;28;01mreturn\u001b[39;00m functional_from_config(\n\u001b[0;32m    493\u001b[0m         \u001b[38;5;28mcls\u001b[39m, config, custom_objects\u001b[38;5;241m=\u001b[39mcustom_objects\n\u001b[0;32m    494\u001b[0m     )\n\u001b[0;32m    496\u001b[0m \u001b[38;5;66;03m# Either the model has a custom __init__, or the config\u001b[39;00m\n\u001b[0;32m    497\u001b[0m \u001b[38;5;66;03m# does not contain all the information necessary to\u001b[39;00m\n\u001b[0;32m    498\u001b[0m \u001b[38;5;66;03m# revive a Functional model. This happens when the user creates\u001b[39;00m\n\u001b[1;32m   (...)\u001b[0m\n\u001b[0;32m    501\u001b[0m \u001b[38;5;66;03m# In this case, we fall back to provide all config into the\u001b[39;00m\n\u001b[0;32m    502\u001b[0m \u001b[38;5;66;03m# constructor of the class.\u001b[39;00m\n\u001b[0;32m    503\u001b[0m \u001b[38;5;28;01mtry\u001b[39;00m:\n",
            "File \u001b[1;32m~\\anaconda3\\Lib\\site-packages\\keras\\src\\models\\functional.py:503\u001b[0m, in \u001b[0;36mfunctional_from_config\u001b[1;34m(cls, config, custom_objects)\u001b[0m\n\u001b[0;32m    501\u001b[0m \u001b[38;5;66;03m# First, we create all layers and enqueue nodes to be processed\u001b[39;00m\n\u001b[0;32m    502\u001b[0m \u001b[38;5;28;01mfor\u001b[39;00m layer_data \u001b[38;5;129;01min\u001b[39;00m config[\u001b[38;5;124m\"\u001b[39m\u001b[38;5;124mlayers\u001b[39m\u001b[38;5;124m\"\u001b[39m]:\n\u001b[1;32m--> 503\u001b[0m     process_layer(layer_data)\n\u001b[0;32m    505\u001b[0m \u001b[38;5;66;03m# Then we process nodes in order of layer depth.\u001b[39;00m\n\u001b[0;32m    506\u001b[0m \u001b[38;5;66;03m# Nodes that cannot yet be processed (if the inbound node\u001b[39;00m\n\u001b[0;32m    507\u001b[0m \u001b[38;5;66;03m# does not yet exist) are re-enqueued, and the process\u001b[39;00m\n\u001b[0;32m    508\u001b[0m \u001b[38;5;66;03m# is repeated until all nodes are processed.\u001b[39;00m\n\u001b[0;32m    509\u001b[0m \u001b[38;5;28;01mwhile\u001b[39;00m unprocessed_nodes:\n",
            "File \u001b[1;32m~\\anaconda3\\Lib\\site-packages\\keras\\src\\models\\functional.py:483\u001b[0m, in \u001b[0;36mfunctional_from_config.<locals>.process_layer\u001b[1;34m(layer_data)\u001b[0m\n\u001b[0;32m    479\u001b[0m \u001b[38;5;66;03m# Instantiate layer.\u001b[39;00m\n\u001b[0;32m    480\u001b[0m \u001b[38;5;28;01mif\u001b[39;00m \u001b[38;5;124m\"\u001b[39m\u001b[38;5;124mmodule\u001b[39m\u001b[38;5;124m\"\u001b[39m \u001b[38;5;129;01mnot\u001b[39;00m \u001b[38;5;129;01min\u001b[39;00m layer_data:\n\u001b[0;32m    481\u001b[0m     \u001b[38;5;66;03m# Legacy format deserialization (no \"module\" key)\u001b[39;00m\n\u001b[0;32m    482\u001b[0m     \u001b[38;5;66;03m# used for H5 and SavedModel formats\u001b[39;00m\n\u001b[1;32m--> 483\u001b[0m     layer \u001b[38;5;241m=\u001b[39m saving_utils\u001b[38;5;241m.\u001b[39mmodel_from_config(\n\u001b[0;32m    484\u001b[0m         layer_data, custom_objects\u001b[38;5;241m=\u001b[39mcustom_objects\n\u001b[0;32m    485\u001b[0m     )\n\u001b[0;32m    486\u001b[0m \u001b[38;5;28;01melse\u001b[39;00m:\n\u001b[0;32m    487\u001b[0m     layer \u001b[38;5;241m=\u001b[39m serialization_lib\u001b[38;5;241m.\u001b[39mdeserialize_keras_object(\n\u001b[0;32m    488\u001b[0m         layer_data, custom_objects\u001b[38;5;241m=\u001b[39mcustom_objects\n\u001b[0;32m    489\u001b[0m     )\n",
            "File \u001b[1;32m~\\anaconda3\\Lib\\site-packages\\keras\\src\\legacy\\saving\\saving_utils.py:85\u001b[0m, in \u001b[0;36mmodel_from_config\u001b[1;34m(config, custom_objects)\u001b[0m\n\u001b[0;32m     81\u001b[0m \u001b[38;5;66;03m# TODO(nkovela): Swap find and replace args during Keras 3.0 release\u001b[39;00m\n\u001b[0;32m     82\u001b[0m \u001b[38;5;66;03m# Replace keras refs with keras\u001b[39;00m\n\u001b[0;32m     83\u001b[0m config \u001b[38;5;241m=\u001b[39m _find_replace_nested_dict(config, \u001b[38;5;124m\"\u001b[39m\u001b[38;5;124mkeras.\u001b[39m\u001b[38;5;124m\"\u001b[39m, \u001b[38;5;124m\"\u001b[39m\u001b[38;5;124mkeras.\u001b[39m\u001b[38;5;124m\"\u001b[39m)\n\u001b[1;32m---> 85\u001b[0m \u001b[38;5;28;01mreturn\u001b[39;00m serialization\u001b[38;5;241m.\u001b[39mdeserialize_keras_object(\n\u001b[0;32m     86\u001b[0m     config,\n\u001b[0;32m     87\u001b[0m     module_objects\u001b[38;5;241m=\u001b[39mMODULE_OBJECTS\u001b[38;5;241m.\u001b[39mALL_OBJECTS,\n\u001b[0;32m     88\u001b[0m     custom_objects\u001b[38;5;241m=\u001b[39mcustom_objects,\n\u001b[0;32m     89\u001b[0m     printable_module_name\u001b[38;5;241m=\u001b[39m\u001b[38;5;124m\"\u001b[39m\u001b[38;5;124mlayer\u001b[39m\u001b[38;5;124m\"\u001b[39m,\n\u001b[0;32m     90\u001b[0m )\n",
            "File \u001b[1;32m~\\anaconda3\\Lib\\site-packages\\keras\\src\\legacy\\saving\\serialization.py:504\u001b[0m, in \u001b[0;36mdeserialize_keras_object\u001b[1;34m(identifier, module_objects, custom_objects, printable_module_name)\u001b[0m\n\u001b[0;32m    502\u001b[0m     \u001b[38;5;28;01melse\u001b[39;00m:\n\u001b[0;32m    503\u001b[0m         \u001b[38;5;28;01mwith\u001b[39;00m object_registration\u001b[38;5;241m.\u001b[39mCustomObjectScope(custom_objects):\n\u001b[1;32m--> 504\u001b[0m             deserialized_obj \u001b[38;5;241m=\u001b[39m \u001b[38;5;28mcls\u001b[39m\u001b[38;5;241m.\u001b[39mfrom_config(cls_config)\n\u001b[0;32m    505\u001b[0m \u001b[38;5;28;01melse\u001b[39;00m:\n\u001b[0;32m    506\u001b[0m     \u001b[38;5;66;03m# Then `cls` may be a function returning a class.\u001b[39;00m\n\u001b[0;32m    507\u001b[0m     \u001b[38;5;66;03m# in this case by convention `config` holds\u001b[39;00m\n\u001b[0;32m    508\u001b[0m     \u001b[38;5;66;03m# the kwargs of the function.\u001b[39;00m\n\u001b[0;32m    509\u001b[0m     custom_objects \u001b[38;5;241m=\u001b[39m custom_objects \u001b[38;5;129;01mor\u001b[39;00m {}\n",
            "File \u001b[1;32m~\\anaconda3\\Lib\\site-packages\\keras\\src\\ops\\operation.py:198\u001b[0m, in \u001b[0;36mOperation.from_config\u001b[1;34m(cls, config)\u001b[0m\n\u001b[0;32m    196\u001b[0m     \u001b[38;5;28;01mreturn\u001b[39;00m \u001b[38;5;28mcls\u001b[39m(\u001b[38;5;241m*\u001b[39m\u001b[38;5;241m*\u001b[39mconfig)\n\u001b[0;32m    197\u001b[0m \u001b[38;5;28;01mexcept\u001b[39;00m \u001b[38;5;167;01mException\u001b[39;00m \u001b[38;5;28;01mas\u001b[39;00m e:\n\u001b[1;32m--> 198\u001b[0m     \u001b[38;5;28;01mraise\u001b[39;00m \u001b[38;5;167;01mTypeError\u001b[39;00m(\n\u001b[0;32m    199\u001b[0m         \u001b[38;5;124mf\u001b[39m\u001b[38;5;124m\"\u001b[39m\u001b[38;5;124mError when deserializing class \u001b[39m\u001b[38;5;124m'\u001b[39m\u001b[38;5;132;01m{\u001b[39;00m\u001b[38;5;28mcls\u001b[39m\u001b[38;5;241m.\u001b[39m\u001b[38;5;18m__name__\u001b[39m\u001b[38;5;132;01m}\u001b[39;00m\u001b[38;5;124m'\u001b[39m\u001b[38;5;124m using \u001b[39m\u001b[38;5;124m\"\u001b[39m\n\u001b[0;32m    200\u001b[0m         \u001b[38;5;124mf\u001b[39m\u001b[38;5;124m\"\u001b[39m\u001b[38;5;124mconfig=\u001b[39m\u001b[38;5;132;01m{\u001b[39;00mconfig\u001b[38;5;132;01m}\u001b[39;00m\u001b[38;5;124m.\u001b[39m\u001b[38;5;130;01m\\n\u001b[39;00m\u001b[38;5;130;01m\\n\u001b[39;00m\u001b[38;5;124mException encountered: \u001b[39m\u001b[38;5;132;01m{\u001b[39;00me\u001b[38;5;132;01m}\u001b[39;00m\u001b[38;5;124m\"\u001b[39m\n\u001b[0;32m    201\u001b[0m     )\n",
            "\u001b[1;31mTypeError\u001b[0m: Error when deserializing class 'DepthwiseConv2D' using config={'name': 'conv_dw_1', 'trainable': False, 'dtype': 'float32', 'kernel_size': [3, 3], 'strides': [1, 1], 'padding': 'same', 'data_format': 'channels_last', 'dilation_rate': [1, 1], 'groups': 1, 'activation': 'linear', 'use_bias': False, 'bias_initializer': {'module': 'keras.initializers', 'class_name': 'Zeros', 'config': {}, 'registered_name': None}, 'bias_regularizer': None, 'activity_regularizer': None, 'bias_constraint': None, 'depth_multiplier': 1, 'depthwise_initializer': {'module': 'keras.initializers', 'class_name': 'GlorotUniform', 'config': {'seed': None}, 'registered_name': None}, 'depthwise_regularizer': None, 'depthwise_constraint': None}.\n\nException encountered: Unrecognized keyword arguments passed to DepthwiseConv2D: {'groups': 1}"
          ]
        }
      ],
      "source": [
        "import numpy as np\n",
        "import cv2\n",
        "import tensorflow as tf\n",
        "from tf_explain.core.grad_cam import GradCAM\n",
        "\n",
        "# Hardcoded class names\n",
        "classes = ['Apple___Apple_scab', 'Apple___Black_rot', 'Apple___Cedar_apple_rust', 'Apple___healthy',\n",
        "           'Blueberry___healthy', 'Cherry___healthy', 'Cherry___Powdery_mildew',\n",
        "           'Corn___Cercospora_leaf_spot Gray_leaf_spot', 'Corn___Common_rust', 'Corn___healthy',\n",
        "           'Corn___Northern_Leaf_Blight', 'Grape___Black_rot', 'Grape___Esca_(Black_Measles)',\n",
        "           'Grape___healthy', 'Grape___Leaf_blight_(Isariopsis_Leaf_Spot)',\n",
        "           'Orange___Haunglongbing_(Citrus_greening)', 'Peach___Bacterial_spot', 'Peach___healthy',\n",
        "           'Pepper,_bell___Bacterial_spot', 'Pepper,_bell___healthy', 'Potato___Early_blight',\n",
        "           'Potato___healthy', 'Potato___Late_blight', 'Raspberry___healthy', 'Soybean___healthy',\n",
        "           'Squash___Powdery_mildew', 'Strawberry___healthy', 'Strawberry___Leaf_scorch',\n",
        "           'Tomato___Bacterial_spot', 'Tomato___Early_blight', 'Tomato___healthy', 'Tomato___Late_blight',\n",
        "           'Tomato___Leaf_Mold', 'Tomato___Septoria_leaf_spot', 'Tomato___Spider_mites Two-spotted_spider_mite',\n",
        "           'Tomato___Target_Spot', 'Tomato___Tomato_mosaic_virus', 'Tomato___Tomato_Yellow_Leaf_Curl_Virus']\n",
        "\n",
        "# Load and compile your trained model\n",
        "model = tf.keras.models.load_model(r'C:\\Users\\DELL\\Downloads\\plant_models\\plant_leaf_disease_detection_MobileNet.h5')\n",
        "model.compile(optimizer='adam', loss='categorical_crossentropy', metrics=['accuracy'])\n",
        "\n",
        "# Select an input image from your dataset\n",
        "image_path = r'C:\\Users\\DELL\\Downloads\\New Plant Diseases Dataset(Augmented)\\New Plant Diseases Dataset(Augmented)\\train\\Apple___Apple_scab\\0a5e9323-dbad-432d-ac58-d291718345d9___FREC_Scab 3417_90deg'\n",
        "\n",
        "# Load the image\n",
        "image = cv2.imread(image_path)\n",
        "\n",
        "# Check if the image is loaded successfully\n",
        "if image is None:\n",
        "    print(f\"Error: Unable to load image from {image_path}\")\n",
        "else:\n",
        "    # Resize the image\n",
        "    image = cv2.resize(image, (100, 100))  # Resize to match the input size of your model\n",
        "\n",
        "    # Add batch dimension and normalize\n",
        "    image = np.expand_dims(image, axis=0) / 255.0\n",
        "\n",
        "    # Instantiate GradCAM\n",
        "    grad_cam = GradCAM()\n",
        "\n",
        "    # Get the predicted class index\n",
        "    predicted_class_index = np.argmax(model.predict(image), axis=1)[0]\n",
        "\n",
        "    # Generate the class activation map for the input image\n",
        "    cam = grad_cam.explain(model, image, class_index=predicted_class_index)\n",
        "\n",
        "    # Overlay the class activation map on the original image\n",
        "    heatmap = cv2.applyColorMap(np.uint8(255 * cam), cv2.COLORMAP_JET)\n",
        "    output_image = cv2.addWeighted(cv2.cvtColor(image[0], cv2.COLOR_BGR2RGB), 0.5, heatmap, 0.5, 0)\n",
        "\n",
        "    # Display the original image and the overlaid heatmap\n",
        "    cv2.imshow('Original Image', cv2.cvtColor(image[0], cv2.COLOR_BGR2RGB))\n",
        "    cv2.imshow(f'Grad-CAM Heatmap for {classes[predicted_class_index]}', output_image)\n",
        "    cv2.waitKey(0)\n",
        "    cv2.destroyAllWindows()\n"
      ]
    },
    {
      "cell_type": "code",
      "execution_count": null,
      "id": "a268bdda",
      "metadata": {
        "collapsed": true,
        "id": "a268bdda",
        "outputId": "53dedbc3-3508-4f9f-f517-12c6e0085657"
      },
      "outputs": [
        {
          "name": "stdout",
          "output_type": "stream",
          "text": [
            "Requirement already satisfied: tensorflow in c:\\users\\dell\\anaconda3\\lib\\site-packages (2.15.0)\n",
            "Requirement already satisfied: tensorflow-intel==2.15.0 in c:\\users\\dell\\anaconda3\\lib\\site-packages (from tensorflow) (2.15.0)\n",
            "Requirement already satisfied: absl-py>=1.0.0 in c:\\users\\dell\\anaconda3\\lib\\site-packages (from tensorflow-intel==2.15.0->tensorflow) (2.1.0)\n",
            "Requirement already satisfied: astunparse>=1.6.0 in c:\\users\\dell\\anaconda3\\lib\\site-packages (from tensorflow-intel==2.15.0->tensorflow) (1.6.3)\n",
            "Requirement already satisfied: flatbuffers>=23.5.26 in c:\\users\\dell\\anaconda3\\lib\\site-packages (from tensorflow-intel==2.15.0->tensorflow) (23.5.26)\n",
            "Requirement already satisfied: gast!=0.5.0,!=0.5.1,!=0.5.2,>=0.2.1 in c:\\users\\dell\\anaconda3\\lib\\site-packages (from tensorflow-intel==2.15.0->tensorflow) (0.5.4)\n",
            "Requirement already satisfied: google-pasta>=0.1.1 in c:\\users\\dell\\anaconda3\\lib\\site-packages (from tensorflow-intel==2.15.0->tensorflow) (0.2.0)\n",
            "Requirement already satisfied: h5py>=2.9.0 in c:\\users\\dell\\anaconda3\\lib\\site-packages (from tensorflow-intel==2.15.0->tensorflow) (3.9.0)\n",
            "Requirement already satisfied: libclang>=13.0.0 in c:\\users\\dell\\anaconda3\\lib\\site-packages (from tensorflow-intel==2.15.0->tensorflow) (16.0.6)\n",
            "Requirement already satisfied: ml-dtypes~=0.2.0 in c:\\users\\dell\\anaconda3\\lib\\site-packages (from tensorflow-intel==2.15.0->tensorflow) (0.2.0)\n",
            "Requirement already satisfied: numpy<2.0.0,>=1.23.5 in c:\\users\\dell\\anaconda3\\lib\\site-packages (from tensorflow-intel==2.15.0->tensorflow) (1.24.3)\n",
            "Requirement already satisfied: opt-einsum>=2.3.2 in c:\\users\\dell\\anaconda3\\lib\\site-packages (from tensorflow-intel==2.15.0->tensorflow) (3.3.0)\n",
            "Requirement already satisfied: packaging in c:\\users\\dell\\anaconda3\\lib\\site-packages (from tensorflow-intel==2.15.0->tensorflow) (23.1)\n",
            "Requirement already satisfied: protobuf!=4.21.0,!=4.21.1,!=4.21.2,!=4.21.3,!=4.21.4,!=4.21.5,<5.0.0dev,>=3.20.3 in c:\\users\\dell\\anaconda3\\lib\\site-packages (from tensorflow-intel==2.15.0->tensorflow) (4.25.2)\n",
            "Requirement already satisfied: setuptools in c:\\users\\dell\\anaconda3\\lib\\site-packages (from tensorflow-intel==2.15.0->tensorflow) (68.0.0)\n",
            "Requirement already satisfied: six>=1.12.0 in c:\\users\\dell\\anaconda3\\lib\\site-packages (from tensorflow-intel==2.15.0->tensorflow) (1.16.0)\n",
            "Requirement already satisfied: termcolor>=1.1.0 in c:\\users\\dell\\anaconda3\\lib\\site-packages (from tensorflow-intel==2.15.0->tensorflow) (2.4.0)\n",
            "Requirement already satisfied: typing-extensions>=3.6.6 in c:\\users\\dell\\anaconda3\\lib\\site-packages (from tensorflow-intel==2.15.0->tensorflow) (4.7.1)\n",
            "Requirement already satisfied: wrapt<1.15,>=1.11.0 in c:\\users\\dell\\anaconda3\\lib\\site-packages (from tensorflow-intel==2.15.0->tensorflow) (1.14.1)\n",
            "Requirement already satisfied: tensorflow-io-gcs-filesystem>=0.23.1 in c:\\users\\dell\\anaconda3\\lib\\site-packages (from tensorflow-intel==2.15.0->tensorflow) (0.31.0)\n",
            "Requirement already satisfied: grpcio<2.0,>=1.24.3 in c:\\users\\dell\\anaconda3\\lib\\site-packages (from tensorflow-intel==2.15.0->tensorflow) (1.60.1)\n",
            "Requirement already satisfied: tensorboard<2.16,>=2.15 in c:\\users\\dell\\anaconda3\\lib\\site-packages (from tensorflow-intel==2.15.0->tensorflow) (2.15.2)\n",
            "Requirement already satisfied: tensorflow-estimator<2.16,>=2.15.0 in c:\\users\\dell\\anaconda3\\lib\\site-packages (from tensorflow-intel==2.15.0->tensorflow) (2.15.0)\n",
            "Requirement already satisfied: keras<2.16,>=2.15.0 in c:\\users\\dell\\anaconda3\\lib\\site-packages (from tensorflow-intel==2.15.0->tensorflow) (2.15.0)\n",
            "Requirement already satisfied: wheel<1.0,>=0.23.0 in c:\\users\\dell\\anaconda3\\lib\\site-packages (from astunparse>=1.6.0->tensorflow-intel==2.15.0->tensorflow) (0.38.4)\n",
            "Requirement already satisfied: google-auth<3,>=1.6.3 in c:\\users\\dell\\anaconda3\\lib\\site-packages (from tensorboard<2.16,>=2.15->tensorflow-intel==2.15.0->tensorflow) (2.27.0)\n",
            "Requirement already satisfied: google-auth-oauthlib<2,>=0.5 in c:\\users\\dell\\anaconda3\\lib\\site-packages (from tensorboard<2.16,>=2.15->tensorflow-intel==2.15.0->tensorflow) (1.2.0)\n",
            "Requirement already satisfied: markdown>=2.6.8 in c:\\users\\dell\\anaconda3\\lib\\site-packages (from tensorboard<2.16,>=2.15->tensorflow-intel==2.15.0->tensorflow) (3.4.1)\n",
            "Requirement already satisfied: requests<3,>=2.21.0 in c:\\users\\dell\\anaconda3\\lib\\site-packages (from tensorboard<2.16,>=2.15->tensorflow-intel==2.15.0->tensorflow) (2.31.0)\n",
            "Requirement already satisfied: tensorboard-data-server<0.8.0,>=0.7.0 in c:\\users\\dell\\anaconda3\\lib\\site-packages (from tensorboard<2.16,>=2.15->tensorflow-intel==2.15.0->tensorflow) (0.7.2)\n",
            "Requirement already satisfied: werkzeug>=1.0.1 in c:\\users\\dell\\anaconda3\\lib\\site-packages (from tensorboard<2.16,>=2.15->tensorflow-intel==2.15.0->tensorflow) (2.2.3)\n",
            "Requirement already satisfied: cachetools<6.0,>=2.0.0 in c:\\users\\dell\\anaconda3\\lib\\site-packages (from google-auth<3,>=1.6.3->tensorboard<2.16,>=2.15->tensorflow-intel==2.15.0->tensorflow) (5.3.2)\n",
            "Requirement already satisfied: pyasn1-modules>=0.2.1 in c:\\users\\dell\\anaconda3\\lib\\site-packages (from google-auth<3,>=1.6.3->tensorboard<2.16,>=2.15->tensorflow-intel==2.15.0->tensorflow) (0.2.8)\n",
            "Requirement already satisfied: rsa<5,>=3.1.4 in c:\\users\\dell\\anaconda3\\lib\\site-packages (from google-auth<3,>=1.6.3->tensorboard<2.16,>=2.15->tensorflow-intel==2.15.0->tensorflow) (4.9)\n",
            "Requirement already satisfied: requests-oauthlib>=0.7.0 in c:\\users\\dell\\anaconda3\\lib\\site-packages (from google-auth-oauthlib<2,>=0.5->tensorboard<2.16,>=2.15->tensorflow-intel==2.15.0->tensorflow) (1.3.1)\n",
            "Requirement already satisfied: charset-normalizer<4,>=2 in c:\\users\\dell\\anaconda3\\lib\\site-packages (from requests<3,>=2.21.0->tensorboard<2.16,>=2.15->tensorflow-intel==2.15.0->tensorflow) (2.0.4)\n",
            "Requirement already satisfied: idna<4,>=2.5 in c:\\users\\dell\\anaconda3\\lib\\site-packages (from requests<3,>=2.21.0->tensorboard<2.16,>=2.15->tensorflow-intel==2.15.0->tensorflow) (3.4)\n",
            "Requirement already satisfied: urllib3<3,>=1.21.1 in c:\\users\\dell\\anaconda3\\lib\\site-packages (from requests<3,>=2.21.0->tensorboard<2.16,>=2.15->tensorflow-intel==2.15.0->tensorflow) (1.26.16)\n",
            "Requirement already satisfied: certifi>=2017.4.17 in c:\\users\\dell\\anaconda3\\lib\\site-packages (from requests<3,>=2.21.0->tensorboard<2.16,>=2.15->tensorflow-intel==2.15.0->tensorflow) (2023.7.22)\n",
            "Requirement already satisfied: MarkupSafe>=2.1.1 in c:\\users\\dell\\anaconda3\\lib\\site-packages (from werkzeug>=1.0.1->tensorboard<2.16,>=2.15->tensorflow-intel==2.15.0->tensorflow) (2.1.1)\n",
            "Requirement already satisfied: pyasn1<0.5.0,>=0.4.6 in c:\\users\\dell\\anaconda3\\lib\\site-packages (from pyasn1-modules>=0.2.1->google-auth<3,>=1.6.3->tensorboard<2.16,>=2.15->tensorflow-intel==2.15.0->tensorflow) (0.4.8)\n",
            "Requirement already satisfied: oauthlib>=3.0.0 in c:\\users\\dell\\anaconda3\\lib\\site-packages (from requests-oauthlib>=0.7.0->google-auth-oauthlib<2,>=0.5->tensorboard<2.16,>=2.15->tensorflow-intel==2.15.0->tensorflow) (3.2.2)\n",
            "Requirement already satisfied: keras in c:\\users\\dell\\anaconda3\\lib\\site-packages (2.15.0)\n",
            "Collecting keras\n",
            "  Obtaining dependency information for keras from https://files.pythonhosted.org/packages/b0/b2/104733bb67fde86f3d10010f0b5c93cfa1d5bf552f904584cf9e5b3ba719/keras-3.0.5-py3-none-any.whl.metadata\n",
            "  Downloading keras-3.0.5-py3-none-any.whl.metadata (4.8 kB)\n",
            "Requirement already satisfied: absl-py in c:\\users\\dell\\anaconda3\\lib\\site-packages (from keras) (2.1.0)\n",
            "Requirement already satisfied: numpy in c:\\users\\dell\\anaconda3\\lib\\site-packages (from keras) (1.24.3)\n",
            "Requirement already satisfied: rich in c:\\users\\dell\\anaconda3\\lib\\site-packages (from keras) (13.7.0)\n",
            "Collecting namex (from keras)\n",
            "  Obtaining dependency information for namex from https://files.pythonhosted.org/packages/cd/43/b971880e2eb45c0bee2093710ae8044764a89afe9620df34a231c6f0ecd2/namex-0.0.7-py3-none-any.whl.metadata\n",
            "  Downloading namex-0.0.7-py3-none-any.whl.metadata (246 bytes)\n",
            "Requirement already satisfied: h5py in c:\\users\\dell\\anaconda3\\lib\\site-packages (from keras) (3.9.0)\n",
            "Collecting dm-tree (from keras)\n",
            "  Obtaining dependency information for dm-tree from https://files.pythonhosted.org/packages/e4/c1/522041457444b67125ac9527208bb3148f63d7dce0a86ffa589ec763a10e/dm_tree-0.1.8-cp311-cp311-win_amd64.whl.metadata\n",
            "  Downloading dm_tree-0.1.8-cp311-cp311-win_amd64.whl.metadata (2.0 kB)\n",
            "Requirement already satisfied: ml-dtypes in c:\\users\\dell\\anaconda3\\lib\\site-packages (from keras) (0.2.0)\n",
            "Requirement already satisfied: markdown-it-py>=2.2.0 in c:\\users\\dell\\anaconda3\\lib\\site-packages (from rich->keras) (2.2.0)\n",
            "Requirement already satisfied: pygments<3.0.0,>=2.13.0 in c:\\users\\dell\\anaconda3\\lib\\site-packages (from rich->keras) (2.15.1)\n",
            "Requirement already satisfied: mdurl~=0.1 in c:\\users\\dell\\anaconda3\\lib\\site-packages (from markdown-it-py>=2.2.0->rich->keras) (0.1.0)\n",
            "Downloading keras-3.0.5-py3-none-any.whl (1.0 MB)\n",
            "   ---------------------------------------- 0.0/1.0 MB ? eta -:--:--\n",
            "   ---------------------------------------- 0.0/1.0 MB ? eta -:--:--\n",
            "   ---------------------------------------- 0.0/1.0 MB ? eta -:--:--\n",
            "   - -------------------------------------- 0.0/1.0 MB 217.9 kB/s eta 0:00:05\n",
            "   - -------------------------------------- 0.0/1.0 MB 178.6 kB/s eta 0:00:06\n",
            "   -- ------------------------------------- 0.1/1.0 MB 252.2 kB/s eta 0:00:04\n",
            "   -- ------------------------------------- 0.1/1.0 MB 245.8 kB/s eta 0:00:04\n",
            "   ---- ----------------------------------- 0.1/1.0 MB 328.2 kB/s eta 0:00:03\n",
            "   ---- ----------------------------------- 0.1/1.0 MB 328.2 kB/s eta 0:00:03\n",
            "   ----- ---------------------------------- 0.1/1.0 MB 327.9 kB/s eta 0:00:03\n",
            "   ------ --------------------------------- 0.2/1.0 MB 349.3 kB/s eta 0:00:03\n",
            "   ------ --------------------------------- 0.2/1.0 MB 349.3 kB/s eta 0:00:03\n",
            "   ------- -------------------------------- 0.2/1.0 MB 337.0 kB/s eta 0:00:03\n",
            "   ------- -------------------------------- 0.2/1.0 MB 319.5 kB/s eta 0:00:03\n",
            "   --------- ------------------------------ 0.2/1.0 MB 343.4 kB/s eta 0:00:03\n",
            "   --------- ------------------------------ 0.3/1.0 MB 357.7 kB/s eta 0:00:03\n",
            "   ---------- ----------------------------- 0.3/1.0 MB 370.3 kB/s eta 0:00:03\n",
            "   ---------- ----------------------------- 0.3/1.0 MB 370.3 kB/s eta 0:00:03\n",
            "   ----------- ---------------------------- 0.3/1.0 MB 333.9 kB/s eta 0:00:03\n",
            "   ----------- ---------------------------- 0.3/1.0 MB 333.9 kB/s eta 0:00:03\n",
            "   ------------ --------------------------- 0.3/1.0 MB 317.0 kB/s eta 0:00:03\n",
            "   ------------- -------------------------- 0.3/1.0 MB 322.5 kB/s eta 0:00:03\n",
            "   ------------- -------------------------- 0.4/1.0 MB 323.0 kB/s eta 0:00:03\n",
            "   --------------- ------------------------ 0.4/1.0 MB 341.0 kB/s eta 0:00:02\n",
            "   ---------------- ----------------------- 0.4/1.0 MB 353.7 kB/s eta 0:00:02\n",
            "   ---------------- ----------------------- 0.4/1.0 MB 353.7 kB/s eta 0:00:02\n",
            "   ---------------- ----------------------- 0.4/1.0 MB 353.7 kB/s eta 0:00:02\n",
            "   ---------------- ----------------------- 0.4/1.0 MB 353.7 kB/s eta 0:00:02\n",
            "   ---------------- ----------------------- 0.4/1.0 MB 353.7 kB/s eta 0:00:02\n",
            "   -------------------- ------------------- 0.5/1.0 MB 359.4 kB/s eta 0:00:02\n",
            "   --------------------- ------------------ 0.5/1.0 MB 358.8 kB/s eta 0:00:02\n",
            "   --------------------- ------------------ 0.6/1.0 MB 361.2 kB/s eta 0:00:02\n",
            "   --------------------- ------------------ 0.6/1.0 MB 361.2 kB/s eta 0:00:02\n",
            "   --------------------- ------------------ 0.6/1.0 MB 361.2 kB/s eta 0:00:02\n",
            "   --------------------- ------------------ 0.6/1.0 MB 361.2 kB/s eta 0:00:02\n",
            "   --------------------- ------------------ 0.6/1.0 MB 361.2 kB/s eta 0:00:02\n",
            "   --------------------- ------------------ 0.6/1.0 MB 361.2 kB/s eta 0:00:02\n",
            "   --------------------- ------------------ 0.6/1.0 MB 361.2 kB/s eta 0:00:02\n",
            "   --------------------- ------------------ 0.6/1.0 MB 361.2 kB/s eta 0:00:02\n",
            "   --------------------- ------------------ 0.6/1.0 MB 361.2 kB/s eta 0:00:02\n",
            "   --------------------- ------------------ 0.6/1.0 MB 361.2 kB/s eta 0:00:02\n",
            "   --------------------- ------------------ 0.6/1.0 MB 361.2 kB/s eta 0:00:02\n",
            "   --------------------- ------------------ 0.6/1.0 MB 361.2 kB/s eta 0:00:02\n",
            "   --------------------- ------------------ 0.6/1.0 MB 361.2 kB/s eta 0:00:02\n",
            "   --------------------- ------------------ 0.6/1.0 MB 361.2 kB/s eta 0:00:02\n",
            "   --------------------- ------------------ 0.6/1.0 MB 361.2 kB/s eta 0:00:02\n",
            "   ------------------------ --------------- 0.6/1.0 MB 269.4 kB/s eta 0:00:02\n",
            "   ------------------------ --------------- 0.6/1.0 MB 269.4 kB/s eta 0:00:02\n",
            "   ------------------------ --------------- 0.6/1.0 MB 269.4 kB/s eta 0:00:02\n",
            "   ------------------------- -------------- 0.7/1.0 MB 261.3 kB/s eta 0:00:02\n",
            "   ------------------------- -------------- 0.7/1.0 MB 261.3 kB/s eta 0:00:02\n",
            "   ------------------------- -------------- 0.7/1.0 MB 261.3 kB/s eta 0:00:02\n",
            "   -------------------------- ------------- 0.7/1.0 MB 255.1 kB/s eta 0:00:02\n",
            "   -------------------------- ------------- 0.7/1.0 MB 255.1 kB/s eta 0:00:02\n",
            "   -------------------------- ------------- 0.7/1.0 MB 255.1 kB/s eta 0:00:02\n",
            "   -------------------------- ------------- 0.7/1.0 MB 255.1 kB/s eta 0:00:02\n",
            "   -------------------------- ------------- 0.7/1.0 MB 255.1 kB/s eta 0:00:02\n",
            "   -------------------------- ------------- 0.7/1.0 MB 255.1 kB/s eta 0:00:02\n",
            "   -------------------------- ------------- 0.7/1.0 MB 255.1 kB/s eta 0:00:02\n",
            "   -------------------------- ------------- 0.7/1.0 MB 255.1 kB/s eta 0:00:02\n",
            "   -------------------------- ------------- 0.7/1.0 MB 255.1 kB/s eta 0:00:02\n",
            "   -------------------------- ------------- 0.7/1.0 MB 255.1 kB/s eta 0:00:02\n",
            "   ---------------------------- ----------- 0.7/1.0 MB 232.9 kB/s eta 0:00:02\n",
            "   ---------------------------- ----------- 0.7/1.0 MB 232.9 kB/s eta 0:00:02\n",
            "   ---------------------------- ----------- 0.7/1.0 MB 232.9 kB/s eta 0:00:02\n",
            "   ---------------------------- ----------- 0.7/1.0 MB 232.9 kB/s eta 0:00:02\n",
            "   ---------------------------- ----------- 0.7/1.0 MB 232.9 kB/s eta 0:00:02\n",
            "   ---------------------------- ----------- 0.7/1.0 MB 232.9 kB/s eta 0:00:02\n",
            "   ---------------------------- ----------- 0.7/1.0 MB 232.9 kB/s eta 0:00:02\n",
            "   ---------------------------- ----------- 0.7/1.0 MB 232.9 kB/s eta 0:00:02\n",
            "   ---------------------------- ----------- 0.7/1.0 MB 232.9 kB/s eta 0:00:02\n",
            "   ---------------------------- ----------- 0.7/1.0 MB 232.9 kB/s eta 0:00:02\n",
            "   ---------------------------- ----------- 0.7/1.0 MB 232.9 kB/s eta 0:00:02\n",
            "   ---------------------------- ----------- 0.7/1.0 MB 197.2 kB/s eta 0:00:02\n",
            "   ----------------------------- ---------- 0.8/1.0 MB 201.9 kB/s eta 0:00:02\n",
            "   ----------------------------- ---------- 0.8/1.0 MB 201.9 kB/s eta 0:00:02\n",
            "   ----------------------------- ---------- 0.8/1.0 MB 201.9 kB/s eta 0:00:02\n",
            "   ----------------------------- ---------- 0.8/1.0 MB 201.9 kB/s eta 0:00:02\n",
            "   ----------------------------- ---------- 0.8/1.0 MB 201.9 kB/s eta 0:00:02\n",
            "   ----------------------------- ---------- 0.8/1.0 MB 201.9 kB/s eta 0:00:02\n",
            "   ----------------------------- ---------- 0.8/1.0 MB 201.9 kB/s eta 0:00:02\n",
            "   ----------------------------- ---------- 0.8/1.0 MB 201.9 kB/s eta 0:00:02\n",
            "   ----------------------------- ---------- 0.8/1.0 MB 201.9 kB/s eta 0:00:02\n",
            "   ----------------------------- ---------- 0.8/1.0 MB 201.9 kB/s eta 0:00:02\n",
            "   ----------------------------- ---------- 0.8/1.0 MB 201.9 kB/s eta 0:00:02\n",
            "   ------------------------------ --------- 0.8/1.0 MB 182.4 kB/s eta 0:00:02\n",
            "   ------------------------------ --------- 0.8/1.0 MB 182.4 kB/s eta 0:00:02\n",
            "   ------------------------------ --------- 0.8/1.0 MB 182.4 kB/s eta 0:00:02\n",
            "   ------------------------------ --------- 0.8/1.0 MB 182.4 kB/s eta 0:00:02\n",
            "   ------------------------------ --------- 0.8/1.0 MB 182.4 kB/s eta 0:00:02\n",
            "   ------------------------------ --------- 0.8/1.0 MB 182.4 kB/s eta 0:00:02\n",
            "   ------------------------------ --------- 0.8/1.0 MB 182.4 kB/s eta 0:00:02\n",
            "   ------------------------------ --------- 0.8/1.0 MB 182.4 kB/s eta 0:00:02\n",
            "   ------------------------------ --------- 0.8/1.0 MB 182.4 kB/s eta 0:00:02\n",
            "   ------------------------------ --------- 0.8/1.0 MB 182.4 kB/s eta 0:00:02\n",
            "   ------------------------------ --------- 0.8/1.0 MB 182.4 kB/s eta 0:00:02\n",
            "   ------------------------------ --------- 0.8/1.0 MB 182.4 kB/s eta 0:00:02\n",
            "   ------------------------------ --------- 0.8/1.0 MB 182.4 kB/s eta 0:00:02\n",
            "   ------------------------------- -------- 0.8/1.0 MB 161.8 kB/s eta 0:00:02\n",
            "   ------------------------------- -------- 0.8/1.0 MB 161.8 kB/s eta 0:00:02\n",
            "   ------------------------------- -------- 0.8/1.0 MB 161.8 kB/s eta 0:00:02\n",
            "   ------------------------------- -------- 0.8/1.0 MB 161.8 kB/s eta 0:00:02\n",
            "   ------------------------------- -------- 0.8/1.0 MB 161.8 kB/s eta 0:00:02\n",
            "   ------------------------------- -------- 0.8/1.0 MB 161.8 kB/s eta 0:00:02\n",
            "   ------------------------------- -------- 0.8/1.0 MB 161.8 kB/s eta 0:00:02\n",
            "   ------------------------------- -------- 0.8/1.0 MB 161.8 kB/s eta 0:00:02\n",
            "   ------------------------------- -------- 0.8/1.0 MB 161.8 kB/s eta 0:00:02\n",
            "   ------------------------------- -------- 0.8/1.0 MB 161.8 kB/s eta 0:00:02\n",
            "   ------------------------------- -------- 0.8/1.0 MB 161.8 kB/s eta 0:00:02\n",
            "   ------------------------------- -------- 0.8/1.0 MB 161.8 kB/s eta 0:00:02\n",
            "   ------------------------------- -------- 0.8/1.0 MB 161.8 kB/s eta 0:00:02\n",
            "   ------------------------------- -------- 0.8/1.0 MB 161.8 kB/s eta 0:00:02\n",
            "   ------------------------------- -------- 0.8/1.0 MB 161.8 kB/s eta 0:00:02\n",
            "   ------------------------------- -------- 0.8/1.0 MB 161.8 kB/s eta 0:00:02\n",
            "   ------------------------------- -------- 0.8/1.0 MB 139.9 kB/s eta 0:00:02\n",
            "   ------------------------------- -------- 0.8/1.0 MB 139.9 kB/s eta 0:00:02\n",
            "   ------------------------------- -------- 0.8/1.0 MB 139.9 kB/s eta 0:00:02\n",
            "   ------------------------------- -------- 0.8/1.0 MB 139.9 kB/s eta 0:00:02\n",
            "   ------------------------------- -------- 0.8/1.0 MB 139.9 kB/s eta 0:00:02\n",
            "   ------------------------------- -------- 0.8/1.0 MB 139.9 kB/s eta 0:00:02\n",
            "   ------------------------------- -------- 0.8/1.0 MB 139.9 kB/s eta 0:00:02\n",
            "   ------------------------------- -------- 0.8/1.0 MB 139.9 kB/s eta 0:00:02\n",
            "   ------------------------------- -------- 0.8/1.0 MB 139.9 kB/s eta 0:00:02\n",
            "   ------------------------------- -------- 0.8/1.0 MB 139.9 kB/s eta 0:00:02\n",
            "   ------------------------------- -------- 0.8/1.0 MB 139.9 kB/s eta 0:00:02\n",
            "   ------------------------------- -------- 0.8/1.0 MB 139.9 kB/s eta 0:00:02\n",
            "   ------------------------------- -------- 0.8/1.0 MB 139.9 kB/s eta 0:00:02\n",
            "   ------------------------------- -------- 0.8/1.0 MB 139.9 kB/s eta 0:00:02\n",
            "   -------------------------------- ------- 0.8/1.0 MB 126.7 kB/s eta 0:00:02\n",
            "   -------------------------------- ------- 0.8/1.0 MB 126.7 kB/s eta 0:00:02\n",
            "   -------------------------------- ------- 0.8/1.0 MB 126.7 kB/s eta 0:00:02\n",
            "   -------------------------------- ------- 0.8/1.0 MB 126.7 kB/s eta 0:00:02\n",
            "   -------------------------------- ------- 0.8/1.0 MB 126.7 kB/s eta 0:00:02\n",
            "   -------------------------------- ------- 0.8/1.0 MB 126.7 kB/s eta 0:00:02\n",
            "   -------------------------------- ------- 0.8/1.0 MB 126.7 kB/s eta 0:00:02\n",
            "   -------------------------------- ------- 0.8/1.0 MB 126.7 kB/s eta 0:00:02\n",
            "   -------------------------------- ------- 0.8/1.0 MB 126.7 kB/s eta 0:00:02\n",
            "   -------------------------------- ------- 0.8/1.0 MB 126.7 kB/s eta 0:00:02\n",
            "   -------------------------------- ------- 0.8/1.0 MB 126.7 kB/s eta 0:00:02\n",
            "   -------------------------------- ------- 0.8/1.0 MB 126.7 kB/s eta 0:00:02\n",
            "   -------------------------------- ------- 0.8/1.0 MB 126.7 kB/s eta 0:00:02\n",
            "   -------------------------------- ------- 0.8/1.0 MB 126.7 kB/s eta 0:00:02\n",
            "   -------------------------------- ------- 0.8/1.0 MB 126.7 kB/s eta 0:00:02\n",
            "   -------------------------------- ------- 0.8/1.0 MB 126.7 kB/s eta 0:00:02\n",
            "   -------------------------------- ------- 0.8/1.0 MB 126.7 kB/s eta 0:00:02\n",
            "   -------------------------------- ------- 0.8/1.0 MB 126.7 kB/s eta 0:00:02\n",
            "   --------------------------------- ------ 0.9/1.0 MB 114.8 kB/s eta 0:00:02\n",
            "   --------------------------------- ------ 0.9/1.0 MB 114.8 kB/s eta 0:00:02\n",
            "   --------------------------------- ------ 0.9/1.0 MB 114.8 kB/s eta 0:00:02\n",
            "   --------------------------------- ------ 0.9/1.0 MB 114.8 kB/s eta 0:00:02\n",
            "   --------------------------------- ------ 0.9/1.0 MB 114.8 kB/s eta 0:00:02\n",
            "   --------------------------------- ------ 0.9/1.0 MB 114.8 kB/s eta 0:00:02\n",
            "   --------------------------------- ------ 0.9/1.0 MB 114.8 kB/s eta 0:00:02\n",
            "   --------------------------------- ------ 0.9/1.0 MB 114.8 kB/s eta 0:00:02\n",
            "   --------------------------------- ------ 0.9/1.0 MB 109.9 kB/s eta 0:00:02\n",
            "   --------------------------------- ------ 0.9/1.0 MB 109.9 kB/s eta 0:00:02\n",
            "   --------------------------------- ------ 0.9/1.0 MB 109.9 kB/s eta 0:00:02\n",
            "   --------------------------------- ------ 0.9/1.0 MB 109.9 kB/s eta 0:00:02\n",
            "   --------------------------------- ------ 0.9/1.0 MB 109.9 kB/s eta 0:00:02\n",
            "   --------------------------------- ------ 0.9/1.0 MB 109.9 kB/s eta 0:00:02\n",
            "   --------------------------------- ------ 0.9/1.0 MB 109.9 kB/s eta 0:00:02\n",
            "   --------------------------------- ------ 0.9/1.0 MB 109.9 kB/s eta 0:00:02\n",
            "   ---------------------------------- ----- 0.9/1.0 MB 107.4 kB/s eta 0:00:02\n",
            "   ---------------------------------- ----- 0.9/1.0 MB 107.4 kB/s eta 0:00:02\n",
            "   ---------------------------------- ----- 0.9/1.0 MB 107.4 kB/s eta 0:00:02\n",
            "   ---------------------------------- ----- 0.9/1.0 MB 107.4 kB/s eta 0:00:02\n",
            "   ---------------------------------- ----- 0.9/1.0 MB 105.8 kB/s eta 0:00:02\n",
            "   ---------------------------------- ----- 0.9/1.0 MB 105.8 kB/s eta 0:00:02\n",
            "   ---------------------------------- ----- 0.9/1.0 MB 105.8 kB/s eta 0:00:02\n",
            "   ---------------------------------- ----- 0.9/1.0 MB 105.8 kB/s eta 0:00:02\n",
            "   ---------------------------------- ----- 0.9/1.0 MB 105.8 kB/s eta 0:00:02\n",
            "   ---------------------------------- ----- 0.9/1.0 MB 105.8 kB/s eta 0:00:02\n",
            "   ---------------------------------- ----- 0.9/1.0 MB 105.8 kB/s eta 0:00:02\n",
            "   ---------------------------------- ----- 0.9/1.0 MB 105.8 kB/s eta 0:00:02\n",
            "   ---------------------------------- ----- 0.9/1.0 MB 105.8 kB/s eta 0:00:02\n",
            "   ---------------------------------- ----- 0.9/1.0 MB 105.8 kB/s eta 0:00:02\n",
            "   ---------------------------------- ----- 0.9/1.0 MB 105.8 kB/s eta 0:00:02\n",
            "   ---------------------------------- ----- 0.9/1.0 MB 105.8 kB/s eta 0:00:02\n",
            "   ---------------------------------- ----- 0.9/1.0 MB 105.8 kB/s eta 0:00:02\n",
            "   ---------------------------------- ----- 0.9/1.0 MB 105.8 kB/s eta 0:00:02\n",
            "   ---------------------------------- ----- 0.9/1.0 MB 105.8 kB/s eta 0:00:02\n",
            "   ---------------------------------- ----- 0.9/1.0 MB 105.8 kB/s eta 0:00:02\n",
            "   ---------------------------------- ----- 0.9/1.0 MB 105.8 kB/s eta 0:00:02\n",
            "   ---------------------------------- ----- 0.9/1.0 MB 105.8 kB/s eta 0:00:02\n",
            "   ---------------------------------- ----- 0.9/1.0 MB 105.8 kB/s eta 0:00:02\n",
            "   ---------------------------------- ----- 0.9/1.0 MB 105.8 kB/s eta 0:00:02\n",
            "   ----------------------------------- ---- 0.9/1.0 MB 96.7 kB/s eta 0:00:02\n",
            "   ----------------------------------- ---- 0.9/1.0 MB 96.7 kB/s eta 0:00:02\n",
            "   ----------------------------------- ---- 0.9/1.0 MB 96.7 kB/s eta 0:00:02\n",
            "   ----------------------------------- ---- 0.9/1.0 MB 96.7 kB/s eta 0:00:02\n",
            "   ----------------------------------- ---- 0.9/1.0 MB 96.7 kB/s eta 0:00:02\n",
            "   ----------------------------------- ---- 0.9/1.0 MB 96.7 kB/s eta 0:00:02\n",
            "   ----------------------------------- ---- 0.9/1.0 MB 96.7 kB/s eta 0:00:02\n",
            "   ------------------------------------ --- 0.9/1.0 MB 95.3 kB/s eta 0:00:01\n",
            "   ------------------------------------ --- 0.9/1.0 MB 95.3 kB/s eta 0:00:01\n",
            "   ------------------------------------ --- 0.9/1.0 MB 95.3 kB/s eta 0:00:01\n",
            "   ------------------------------------ --- 0.9/1.0 MB 95.3 kB/s eta 0:00:01\n",
            "   ------------------------------------ --- 0.9/1.0 MB 95.3 kB/s eta 0:00:01\n",
            "   ------------------------------------ --- 0.9/1.0 MB 95.3 kB/s eta 0:00:01\n",
            "   ------------------------------------ --- 0.9/1.0 MB 95.3 kB/s eta 0:00:01\n",
            "   ------------------------------------ --- 0.9/1.0 MB 95.3 kB/s eta 0:00:01\n",
            "   ------------------------------------ --- 0.9/1.0 MB 95.3 kB/s eta 0:00:01\n",
            "   ------------------------------------ --- 0.9/1.0 MB 95.3 kB/s eta 0:00:01\n",
            "   ------------------------------------ --- 1.0/1.0 MB 91.9 kB/s eta 0:00:01\n",
            "   ------------------------------------ --- 1.0/1.0 MB 91.9 kB/s eta 0:00:01\n",
            "   ------------------------------------ --- 1.0/1.0 MB 91.9 kB/s eta 0:00:01\n",
            "   ------------------------------------ --- 1.0/1.0 MB 91.9 kB/s eta 0:00:01\n",
            "   ------------------------------------ --- 1.0/1.0 MB 91.9 kB/s eta 0:00:01\n",
            "   ------------------------------------ --- 1.0/1.0 MB 91.9 kB/s eta 0:00:01\n",
            "   ------------------------------------- -- 1.0/1.0 MB 90.9 kB/s eta 0:00:01\n",
            "   ------------------------------------- -- 1.0/1.0 MB 90.9 kB/s eta 0:00:01\n",
            "   ------------------------------------- -- 1.0/1.0 MB 90.9 kB/s eta 0:00:01\n",
            "   ------------------------------------- -- 1.0/1.0 MB 90.9 kB/s eta 0:00:01\n",
            "   ------------------------------------- -- 1.0/1.0 MB 90.9 kB/s eta 0:00:01\n",
            "   ------------------------------------- -- 1.0/1.0 MB 90.9 kB/s eta 0:00:01\n",
            "   -------------------------------------- - 1.0/1.0 MB 89.2 kB/s eta 0:00:01\n",
            "   -------------------------------------- - 1.0/1.0 MB 89.2 kB/s eta 0:00:01\n",
            "   -------------------------------------- - 1.0/1.0 MB 89.2 kB/s eta 0:00:01\n",
            "   -------------------------------------- - 1.0/1.0 MB 89.2 kB/s eta 0:00:01\n",
            "   -------------------------------------- - 1.0/1.0 MB 89.2 kB/s eta 0:00:01\n",
            "   -------------------------------------- - 1.0/1.0 MB 89.2 kB/s eta 0:00:01\n",
            "   -------------------------------------- - 1.0/1.0 MB 89.2 kB/s eta 0:00:01\n",
            "   -------------------------------------- - 1.0/1.0 MB 89.2 kB/s eta 0:00:01\n",
            "   -------------------------------------- - 1.0/1.0 MB 89.2 kB/s eta 0:00:01\n",
            "   -------------------------------------- - 1.0/1.0 MB 89.2 kB/s eta 0:00:01\n",
            "   -------------------------------------- - 1.0/1.0 MB 87.1 kB/s eta 0:00:01\n",
            "   -------------------------------------- - 1.0/1.0 MB 87.1 kB/s eta 0:00:01\n",
            "   -------------------------------------- - 1.0/1.0 MB 87.1 kB/s eta 0:00:01\n",
            "   -------------------------------------- - 1.0/1.0 MB 87.1 kB/s eta 0:00:01\n",
            "   ---------------------------------------  1.0/1.0 MB 87.3 kB/s eta 0:00:01\n",
            "   ---------------------------------------  1.0/1.0 MB 87.3 kB/s eta 0:00:01\n",
            "   ---------------------------------------- 1.0/1.0 MB 87.0 kB/s eta 0:00:00\n",
            "Downloading dm_tree-0.1.8-cp311-cp311-win_amd64.whl (101 kB)\n",
            "   ---------------------------------------- 0.0/101.3 kB ? eta -:--:--\n",
            "   ---------------------------------------- 0.0/101.3 kB ? eta -:--:--\n",
            "   ---------------------------------------- 0.0/101.3 kB ? eta -:--:--\n",
            "   ---- ----------------------------------- 10.2/101.3 kB ? eta -:--:--\n",
            "   ---- ----------------------------------- 10.2/101.3 kB ? eta -:--:--\n",
            "   ---- ----------------------------------- 10.2/101.3 kB ? eta -:--:--\n",
            "   ---- ----------------------------------- 10.2/101.3 kB ? eta -:--:--\n",
            "   ---- ----------------------------------- 10.2/101.3 kB ? eta -:--:--\n",
            "   ------------ --------------------------- 30.7/101.3 kB 87.5 kB/s eta 0:00:01\n",
            "   ------------ --------------------------- 30.7/101.3 kB 87.5 kB/s eta 0:00:01\n",
            "   ------------ --------------------------- 30.7/101.3 kB 87.5 kB/s eta 0:00:01\n",
            "   ------------ --------------------------- 30.7/101.3 kB 87.5 kB/s eta 0:00:01\n",
            "   ---------------- ----------------------- 41.0/101.3 kB 75.7 kB/s eta 0:00:01\n",
            "   ---------------- ----------------------- 41.0/101.3 kB 75.7 kB/s eta 0:00:01\n",
            "   ---------------- ----------------------- 41.0/101.3 kB 75.7 kB/s eta 0:00:01\n",
            "   ------------------------ --------------- 61.4/101.3 kB 96.4 kB/s eta 0:00:01\n",
            "   ------------------------ --------------- 61.4/101.3 kB 96.4 kB/s eta 0:00:01\n",
            "   ---------------------------- ----------- 71.7/101.3 kB 98.3 kB/s eta 0:00:01\n",
            "   ----------------------------------- --- 92.2/101.3 kB 116.5 kB/s eta 0:00:01\n",
            "   -------------------------------------- 101.3/101.3 kB 126.9 kB/s eta 0:00:00\n",
            "Downloading namex-0.0.7-py3-none-any.whl (5.8 kB)\n",
            "Installing collected packages: namex, dm-tree, keras\n",
            "  Attempting uninstall: keras\n",
            "    Found existing installation: keras 2.15.0\n",
            "    Uninstalling keras-2.15.0:\n",
            "      Successfully uninstalled keras-2.15.0\n",
            "Successfully installed dm-tree-0.1.8 keras-3.0.5 namex-0.0.7\n"
          ]
        },
        {
          "name": "stderr",
          "output_type": "stream",
          "text": [
            "ERROR: pip's dependency resolver does not currently take into account all the packages that are installed. This behaviour is the source of the following dependency conflicts.\n",
            "tensorflow-intel 2.15.0 requires keras<2.16,>=2.15.0, but you have keras 3.0.5 which is incompatible.\n"
          ]
        }
      ],
      "source": [
        "!pip install --upgrade tensorflow\n",
        "!pip install --upgrade keras"
      ]
    },
    {
      "cell_type": "code",
      "execution_count": null,
      "id": "7722b033",
      "metadata": {
        "id": "7722b033"
      },
      "outputs": [],
      "source": []
    }
  ],
  "metadata": {
    "kernelspec": {
      "display_name": "Python 3 (ipykernel)",
      "language": "python",
      "name": "python3"
    },
    "language_info": {
      "codemirror_mode": {
        "name": "ipython",
        "version": 3
      },
      "file_extension": ".py",
      "mimetype": "text/x-python",
      "name": "python",
      "nbconvert_exporter": "python",
      "pygments_lexer": "ipython3",
      "version": "3.11.5"
    },
    "papermill": {
      "default_parameters": {},
      "duration": 6989.456024,
      "end_time": "2023-03-31T11:16:05.516788",
      "environment_variables": {},
      "exception": null,
      "input_path": "__notebook__.ipynb",
      "output_path": "__notebook__.ipynb",
      "parameters": {},
      "start_time": "2023-03-31T09:19:36.060764",
      "version": "2.4.0"
    },
    "colab": {
      "provenance": [],
      "include_colab_link": true
    }
  },
  "nbformat": 4,
  "nbformat_minor": 5
}